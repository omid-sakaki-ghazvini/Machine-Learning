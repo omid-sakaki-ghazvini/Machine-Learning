{
  "metadata": {
    "kernelspec": {
      "language": "python",
      "display_name": "Python 3",
      "name": "python3"
    },
    "language_info": {
      "name": "python",
      "version": "3.10.14",
      "mimetype": "text/x-python",
      "codemirror_mode": {
        "name": "ipython",
        "version": 3
      },
      "pygments_lexer": "ipython3",
      "nbconvert_exporter": "python",
      "file_extension": ".py"
    },
    "kaggle": {
      "accelerator": "none",
      "dataSources": [
        {
          "sourceId": 9788026,
          "sourceType": "datasetVersion",
          "datasetId": 5997342
        }
      ],
      "dockerImageVersionId": 30786,
      "isInternetEnabled": true,
      "language": "python",
      "sourceType": "notebook",
      "isGpuEnabled": false
    },
    "colab": {
      "name": "1D CNN-Binary Classification",
      "provenance": [],
      "include_colab_link": true
    }
  },
  "nbformat_minor": 0,
  "nbformat": 4,
  "cells": [
    {
      "cell_type": "markdown",
      "metadata": {
        "id": "view-in-github",
        "colab_type": "text"
      },
      "source": [
        "<a href=\"https://colab.research.google.com/github/omid-sakaki-ghazvini/Machine-Learning/blob/main/1D_CNN_Binary_Classification.ipynb\" target=\"_parent\"><img src=\"https://colab.research.google.com/assets/colab-badge.svg\" alt=\"Open In Colab\"/></a>"
      ]
    },
    {
      "source": [
        "# IMPORTANT: RUN THIS CELL IN ORDER TO IMPORT YOUR KAGGLE DATA SOURCES,\n",
        "# THEN FEEL FREE TO DELETE THIS CELL.\n",
        "# NOTE: THIS NOTEBOOK ENVIRONMENT DIFFERS FROM KAGGLE'S PYTHON\n",
        "# ENVIRONMENT SO THERE MAY BE MISSING LIBRARIES USED BY YOUR\n",
        "# NOTEBOOK.\n",
        "import kagglehub\n",
        "omidsakaki1370_data_preparation_example_path = kagglehub.dataset_download('omidsakaki1370/data-preparation-example')\n",
        "\n",
        "print('Data source import complete.')\n"
      ],
      "metadata": {
        "id": "LJ9CDO5zeHL5"
      },
      "cell_type": "code",
      "outputs": [],
      "execution_count": null
    },
    {
      "cell_type": "code",
      "source": [
        "# This Python 3 environment comes with many helpful analytics libraries installed\n",
        "# It is defined by the kaggle/python Docker image: https://github.com/kaggle/docker-python\n",
        "# For example, here's several helpful packages to load\n",
        "\n",
        "import numpy as np # linear algebra\n",
        "import pandas as pd # data processing, CSV file I/O (e.g. pd.read_csv)\n",
        "\n",
        "# Input data files are available in the read-only \"../input/\" directory\n",
        "# For example, running this (by clicking run or pressing Shift+Enter) will list all files under the input directory\n",
        "\n",
        "import os\n",
        "for dirname, _, filenames in os.walk('/kaggle/input'):\n",
        "    for filename in filenames:\n",
        "        print(os.path.join(dirname, filename))\n",
        "\n",
        "# You can write up to 20GB to the current directory (/kaggle/working/) that gets preserved as output when you create a version using \"Save & Run All\"\n",
        "# You can also write temporary files to /kaggle/temp/, but they won't be saved outside of the current session"
      ],
      "metadata": {
        "_uuid": "8f2839f25d086af736a60e9eeb907d3b93b6e0e5",
        "_cell_guid": "b1076dfc-b9ad-4769-8c92-a6c4dae69d19",
        "trusted": true,
        "execution": {
          "iopub.status.busy": "2024-11-10T11:49:43.43837Z",
          "iopub.execute_input": "2024-11-10T11:49:43.438793Z",
          "iopub.status.idle": "2024-11-10T11:49:44.713812Z",
          "shell.execute_reply.started": "2024-11-10T11:49:43.43875Z",
          "shell.execute_reply": "2024-11-10T11:49:44.712262Z"
        },
        "id": "mCS-WWMJeHL6"
      },
      "outputs": [],
      "execution_count": null
    },
    {
      "cell_type": "code",
      "source": [
        "import pandas as pd\n",
        "import numpy as np\n",
        "from scipy import stats\n",
        "from sklearn.preprocessing import MinMaxScaler, StandardScaler, LabelEncoder\n",
        "from sklearn.impute import KNNImputer\n",
        "\n",
        "import seaborn as sns\n",
        "import matplotlib.pyplot as plt\n",
        "\n",
        "import warnings\n",
        "warnings.filterwarnings('ignore')"
      ],
      "metadata": {
        "trusted": true,
        "execution": {
          "iopub.status.busy": "2024-11-10T11:52:13.114897Z",
          "iopub.execute_input": "2024-11-10T11:52:13.115577Z",
          "iopub.status.idle": "2024-11-10T11:52:14.418175Z",
          "shell.execute_reply.started": "2024-11-10T11:52:13.115514Z",
          "shell.execute_reply": "2024-11-10T11:52:14.416743Z"
        },
        "id": "PoSYhGCCeHL7"
      },
      "outputs": [],
      "execution_count": null
    },
    {
      "cell_type": "markdown",
      "source": [
        "# **Load Data**"
      ],
      "metadata": {
        "id": "X2nM76SJeHL7"
      }
    },
    {
      "cell_type": "code",
      "source": [
        "df = pd.read_csv('/kaggle/input/data-preparation-example/credit_risk_dataset.csv')"
      ],
      "metadata": {
        "trusted": true,
        "execution": {
          "iopub.status.busy": "2024-11-10T11:52:18.032793Z",
          "iopub.execute_input": "2024-11-10T11:52:18.03416Z",
          "iopub.status.idle": "2024-11-10T11:52:18.127817Z",
          "shell.execute_reply.started": "2024-11-10T11:52:18.034064Z",
          "shell.execute_reply": "2024-11-10T11:52:18.126705Z"
        },
        "id": "Mssbiw-geHL8"
      },
      "outputs": [],
      "execution_count": null
    },
    {
      "cell_type": "code",
      "source": [
        "df.info()"
      ],
      "metadata": {
        "trusted": true,
        "execution": {
          "iopub.status.busy": "2024-11-10T11:52:20.934711Z",
          "iopub.execute_input": "2024-11-10T11:52:20.935677Z",
          "iopub.status.idle": "2024-11-10T11:52:20.973921Z",
          "shell.execute_reply.started": "2024-11-10T11:52:20.935629Z",
          "shell.execute_reply": "2024-11-10T11:52:20.972429Z"
        },
        "id": "qCGn99DgeHL9"
      },
      "outputs": [],
      "execution_count": null
    },
    {
      "cell_type": "code",
      "source": [
        "missing_values_count = df.isnull().sum()\n",
        "missing_values_count"
      ],
      "metadata": {
        "trusted": true,
        "execution": {
          "iopub.status.busy": "2024-11-10T11:52:24.248453Z",
          "iopub.execute_input": "2024-11-10T11:52:24.2489Z",
          "iopub.status.idle": "2024-11-10T11:52:24.269369Z",
          "shell.execute_reply.started": "2024-11-10T11:52:24.24886Z",
          "shell.execute_reply": "2024-11-10T11:52:24.268097Z"
        },
        "id": "bATyI4s9eHL9"
      },
      "outputs": [],
      "execution_count": null
    },
    {
      "cell_type": "markdown",
      "source": [
        "# **Data Analysis**"
      ],
      "metadata": {
        "id": "k3ptNiLQeHL9"
      }
    },
    {
      "cell_type": "code",
      "source": [
        "columns = {\n",
        "    'loan_status': df['loan_status'],\n",
        "    'loan_grade': df['loan_grade'],\n",
        "    'cb_person_default_on_file': df['cb_person_default_on_file'],\n",
        "    'person_home_ownership': df['person_home_ownership'],\n",
        "    'loan_intent': df['loan_intent'],\n",
        "}\n",
        "\n",
        "def plot_data(name, data):\n",
        "    plt.figure(figsize=(5, 5))\n",
        "    palette_color = sns.color_palette('pastel')\n",
        "    explode = [0.1 for _ in range(data.nunique())]\n",
        "\n",
        "    target_counts = df.groupby(name)[name].count()\n",
        "\n",
        "    target_counts.plot.pie(\n",
        "    colors=palette_color,\n",
        "    explode=explode,\n",
        "    autopct=\"%1.1f%%\",\n",
        "    shadow=True,\n",
        "    startangle=140,\n",
        "    textprops={'fontsize': 14},\n",
        "    wedgeprops={'edgecolor': 'black', 'linewidth': 1.5}\n",
        "    )\n",
        "\n",
        "    plt.title(name, fontsize=18, weight='bold')\n",
        "    plt.axis('equal')\n",
        "    plt.show()\n",
        "\n",
        "\n",
        "for name, data in columns.items():\n",
        "    plot_data(name, data)"
      ],
      "metadata": {
        "trusted": true,
        "execution": {
          "iopub.status.busy": "2024-11-10T11:52:28.67181Z",
          "iopub.execute_input": "2024-11-10T11:52:28.672296Z",
          "iopub.status.idle": "2024-11-10T11:52:29.974482Z",
          "shell.execute_reply.started": "2024-11-10T11:52:28.672255Z",
          "shell.execute_reply": "2024-11-10T11:52:29.973203Z"
        },
        "id": "i5CDwGibeHL9"
      },
      "outputs": [],
      "execution_count": null
    },
    {
      "cell_type": "markdown",
      "source": [
        "# **step 1 : Handle Missing Values & Data Cleaning**"
      ],
      "metadata": {
        "id": "q9BQErAbeHL-"
      }
    },
    {
      "cell_type": "markdown",
      "source": [
        "# [Data Cleaning Notebook](http://www.kaggle.com/code/omidsakaki1370/data-cleaning)\n",
        "# [Missing Values Notebook](http://www.kaggle.com/code/omidsakaki1370/missing-values)"
      ],
      "metadata": {
        "id": "sSQLH49YeHL_"
      }
    },
    {
      "cell_type": "markdown",
      "source": [
        "## **1-Normalization**"
      ],
      "metadata": {
        "id": "n27Dfx3eeHL_"
      }
    },
    {
      "cell_type": "code",
      "source": [
        "columns = {'person_income','person_emp_length','loan_amnt','loan_int_rate','loan_percent_income','cb_person_cred_hist_length'}\n",
        "\n",
        "def distplot_data(data):\n",
        "    plt.figure(figsize=(8, 4))\n",
        "    sns.distplot(data);\n",
        "\n",
        "for i in columns:\n",
        "    distplot_data(df[i])"
      ],
      "metadata": {
        "trusted": true,
        "execution": {
          "iopub.status.busy": "2024-11-10T11:52:37.25476Z",
          "iopub.execute_input": "2024-11-10T11:52:37.255254Z",
          "iopub.status.idle": "2024-11-10T11:52:40.641599Z",
          "shell.execute_reply.started": "2024-11-10T11:52:37.255211Z",
          "shell.execute_reply": "2024-11-10T11:52:40.640202Z"
        },
        "id": "j2YebjVaeHL_"
      },
      "outputs": [],
      "execution_count": null
    },
    {
      "cell_type": "code",
      "source": [
        "fig = plt.figure(figsize=(14, 4))\n",
        "ax1 = plt.subplot(121)\n",
        "\n",
        "sns.distplot(df['person_income']);\n",
        "ax1.set_title(\"person_income\");\n",
        "\n",
        "df['person_income'] = np.log(df['person_income'])\n",
        "\n",
        "ax1 = plt.subplot(122)\n",
        "sns.distplot(df['person_income']);\n",
        "ax1.set_title(\"person_income_log\");"
      ],
      "metadata": {
        "trusted": true,
        "execution": {
          "iopub.status.busy": "2024-11-10T11:52:47.774073Z",
          "iopub.execute_input": "2024-11-10T11:52:47.774682Z",
          "iopub.status.idle": "2024-11-10T11:52:48.940179Z",
          "shell.execute_reply.started": "2024-11-10T11:52:47.774536Z",
          "shell.execute_reply": "2024-11-10T11:52:48.938827Z"
        },
        "id": "lQXp2w0heHL_"
      },
      "outputs": [],
      "execution_count": null
    },
    {
      "cell_type": "markdown",
      "source": [
        "## **2-Outliers**"
      ],
      "metadata": {
        "id": "jfhmtpS7eHMA"
      }
    },
    {
      "cell_type": "code",
      "source": [
        "def remove_outliers(df, column):\n",
        "    Q1 = df[column].quantile(0.25)\n",
        "    Q3 = df[column].quantile(0.75)\n",
        "    IQR = Q3 - Q1\n",
        "    lower_bound = Q1 - 1.5 * IQR\n",
        "    upper_bound = Q3 + 1.5 * IQR\n",
        "    df_out = df[(df[column] >= lower_bound) & (df[column] <= upper_bound)]\n",
        "    return df_out\n",
        "\n",
        "df = remove_outliers(df, 'person_age')\n",
        "df = remove_outliers(df, 'person_income')\n",
        "df = remove_outliers(df, 'person_emp_length')\n",
        "df = remove_outliers(df, 'cb_person_cred_hist_length')\n",
        "df.reset_index(drop=True, inplace=True)"
      ],
      "metadata": {
        "trusted": true,
        "execution": {
          "iopub.status.busy": "2024-11-10T11:52:52.564977Z",
          "iopub.execute_input": "2024-11-10T11:52:52.565628Z",
          "iopub.status.idle": "2024-11-10T11:52:52.605539Z",
          "shell.execute_reply.started": "2024-11-10T11:52:52.565571Z",
          "shell.execute_reply": "2024-11-10T11:52:52.604312Z"
        },
        "id": "ejiRvwbceHMA"
      },
      "outputs": [],
      "execution_count": null
    },
    {
      "cell_type": "markdown",
      "source": [
        "## **3-Encoder**"
      ],
      "metadata": {
        "id": "YY0CoJsceHMA"
      }
    },
    {
      "cell_type": "code",
      "source": [
        "encoder=LabelEncoder()\n",
        "\n",
        "df['person_home_ownership']=encoder.fit_transform(df['person_home_ownership'])\n",
        "df['loan_intent']=encoder.fit_transform(df['loan_intent'])\n",
        "df['loan_grade']=encoder.fit_transform(df['loan_grade'])\n",
        "df['cb_person_default_on_file']=encoder.fit_transform(df['cb_person_default_on_file'])"
      ],
      "metadata": {
        "trusted": true,
        "execution": {
          "iopub.status.busy": "2024-11-10T11:52:57.055452Z",
          "iopub.execute_input": "2024-11-10T11:52:57.055905Z",
          "iopub.status.idle": "2024-11-10T11:52:57.092576Z",
          "shell.execute_reply.started": "2024-11-10T11:52:57.055863Z",
          "shell.execute_reply": "2024-11-10T11:52:57.091409Z"
        },
        "id": "2vsnXUuPeHMA"
      },
      "outputs": [],
      "execution_count": null
    },
    {
      "cell_type": "markdown",
      "source": [
        "## **4-missing values**"
      ],
      "metadata": {
        "id": "GsPw8-N6eHMB"
      }
    },
    {
      "cell_type": "code",
      "source": [
        "missing_values_count = df.isnull().sum()\n",
        "missing_values_count"
      ],
      "metadata": {
        "trusted": true,
        "execution": {
          "iopub.status.busy": "2024-11-10T11:53:00.0282Z",
          "iopub.execute_input": "2024-11-10T11:53:00.028629Z",
          "iopub.status.idle": "2024-11-10T11:53:00.041443Z",
          "shell.execute_reply.started": "2024-11-10T11:53:00.028591Z",
          "shell.execute_reply": "2024-11-10T11:53:00.039812Z"
        },
        "id": "aprrXpzpeHMB"
      },
      "outputs": [],
      "execution_count": null
    },
    {
      "cell_type": "code",
      "source": [
        "df = df.fillna(method = 'ffill')\n",
        "missing_values_count = df.isnull().sum()\n",
        "\n",
        "print(missing_values_count)\n",
        "df.head(10)"
      ],
      "metadata": {
        "trusted": true,
        "execution": {
          "iopub.status.busy": "2024-11-10T11:53:03.082453Z",
          "iopub.execute_input": "2024-11-10T11:53:03.083394Z",
          "iopub.status.idle": "2024-11-10T11:53:03.117345Z",
          "shell.execute_reply.started": "2024-11-10T11:53:03.083342Z",
          "shell.execute_reply": "2024-11-10T11:53:03.116043Z"
        },
        "id": "Fiwqfmt0eHMB"
      },
      "outputs": [],
      "execution_count": null
    },
    {
      "cell_type": "code",
      "source": [
        "X = df.copy()\n",
        "y = X.pop(\"loan_status\")"
      ],
      "metadata": {
        "trusted": true,
        "execution": {
          "iopub.status.busy": "2024-11-10T11:53:10.542488Z",
          "iopub.execute_input": "2024-11-10T11:53:10.542925Z",
          "iopub.status.idle": "2024-11-10T11:53:10.555479Z",
          "shell.execute_reply.started": "2024-11-10T11:53:10.542886Z",
          "shell.execute_reply": "2024-11-10T11:53:10.554141Z"
        },
        "id": "vhsFD5eoeHMB"
      },
      "outputs": [],
      "execution_count": null
    },
    {
      "cell_type": "markdown",
      "source": [
        "# **step 2 : Feature Engineering**"
      ],
      "metadata": {
        "id": "w7koHHzveHMB"
      }
    },
    {
      "cell_type": "markdown",
      "source": [
        "# [Feature Engineering Notebook](https://www.kaggle.com/code/omidsakaki1370/feature-engineering)"
      ],
      "metadata": {
        "id": "5QlCdvBNeHMB"
      }
    },
    {
      "cell_type": "code",
      "source": [
        "X_test = X.copy()"
      ],
      "metadata": {
        "trusted": true,
        "execution": {
          "iopub.status.busy": "2024-11-10T11:53:15.564784Z",
          "iopub.execute_input": "2024-11-10T11:53:15.565276Z",
          "iopub.status.idle": "2024-11-10T11:53:15.57539Z",
          "shell.execute_reply.started": "2024-11-10T11:53:15.565235Z",
          "shell.execute_reply": "2024-11-10T11:53:15.574206Z"
        },
        "id": "TwY2WigJeHMB"
      },
      "outputs": [],
      "execution_count": null
    },
    {
      "cell_type": "code",
      "source": [
        "from sklearn.feature_selection import VarianceThreshold\n",
        "\n",
        "selector = VarianceThreshold()\n",
        "X_new = selector.fit_transform(X_test, y)\n",
        "\n",
        "print('X shape :', X.shape)\n",
        "print('X_new shape :', X_new.shape)"
      ],
      "metadata": {
        "trusted": true,
        "execution": {
          "iopub.status.busy": "2024-11-10T11:53:19.363382Z",
          "iopub.execute_input": "2024-11-10T11:53:19.363877Z",
          "iopub.status.idle": "2024-11-10T11:53:19.404382Z",
          "shell.execute_reply.started": "2024-11-10T11:53:19.363838Z",
          "shell.execute_reply": "2024-11-10T11:53:19.403186Z"
        },
        "id": "5pJaHOmaeHMB"
      },
      "outputs": [],
      "execution_count": null
    },
    {
      "cell_type": "markdown",
      "source": [
        "## **Creating Features**"
      ],
      "metadata": {
        "id": "JrA5gRk3eHMB"
      }
    },
    {
      "cell_type": "code",
      "source": [
        "X.head(10)"
      ],
      "metadata": {
        "trusted": true,
        "execution": {
          "iopub.status.busy": "2024-11-10T11:53:25.307733Z",
          "iopub.execute_input": "2024-11-10T11:53:25.308252Z",
          "iopub.status.idle": "2024-11-10T11:53:25.328206Z",
          "shell.execute_reply.started": "2024-11-10T11:53:25.308212Z",
          "shell.execute_reply": "2024-11-10T11:53:25.326876Z"
        },
        "id": "Nts8FlUteHMC"
      },
      "outputs": [],
      "execution_count": null
    },
    {
      "cell_type": "code",
      "source": [
        "X[\"New_Features\"] = round(X.loan_int_rate - X.person_income).astype(int)\n",
        "\n",
        "X[[\"loan_int_rate\", \"person_income\", \"New_Features\"]].head(10)"
      ],
      "metadata": {
        "trusted": true,
        "execution": {
          "iopub.status.busy": "2024-11-10T11:53:28.447976Z",
          "iopub.execute_input": "2024-11-10T11:53:28.448751Z",
          "iopub.status.idle": "2024-11-10T11:53:28.469329Z",
          "shell.execute_reply.started": "2024-11-10T11:53:28.448602Z",
          "shell.execute_reply": "2024-11-10T11:53:28.468142Z"
        },
        "id": "DhsYvRCoeHMC"
      },
      "outputs": [],
      "execution_count": null
    },
    {
      "cell_type": "code",
      "source": [
        "def F(x):\n",
        "    if x>=0:\n",
        "        return 1\n",
        "    else:\n",
        "        return 0\n",
        "\n",
        "X['New_Features'] = X['New_Features'].apply(F)\n",
        "\n",
        "print(X['New_Features'].head(10))\n",
        "print(y.head(10))"
      ],
      "metadata": {
        "trusted": true,
        "execution": {
          "iopub.status.busy": "2024-11-10T11:53:30.913094Z",
          "iopub.execute_input": "2024-11-10T11:53:30.91356Z",
          "iopub.status.idle": "2024-11-10T11:53:30.934734Z",
          "shell.execute_reply.started": "2024-11-10T11:53:30.91352Z",
          "shell.execute_reply": "2024-11-10T11:53:30.933457Z"
        },
        "id": "L-gKvGGxeHMC"
      },
      "outputs": [],
      "execution_count": null
    },
    {
      "cell_type": "markdown",
      "source": [
        "## **Clustering With K-Means**"
      ],
      "metadata": {
        "id": "PrxplqZWeHMC"
      }
    },
    {
      "cell_type": "code",
      "source": [
        "from sklearn.cluster import KMeans\n",
        "\n",
        "kmeans = KMeans(n_clusters=4)\n",
        "\n",
        "X[\"Cluster\"] = kmeans.fit_predict(X)\n",
        "X[\"Cluster\"] = X[\"Cluster\"].astype(\"category\")\n",
        "X.head()"
      ],
      "metadata": {
        "trusted": true,
        "execution": {
          "iopub.status.busy": "2024-11-10T11:53:35.859553Z",
          "iopub.execute_input": "2024-11-10T11:53:35.860008Z",
          "iopub.status.idle": "2024-11-10T11:53:36.799819Z",
          "shell.execute_reply.started": "2024-11-10T11:53:35.859968Z",
          "shell.execute_reply": "2024-11-10T11:53:36.798571Z"
        },
        "id": "opLnlgeaeHMC"
      },
      "outputs": [],
      "execution_count": null
    },
    {
      "cell_type": "code",
      "source": [
        "sns.relplot(x=\"person_income\", y=\"loan_percent_income\", hue=\"Cluster\", data=X, height=4);"
      ],
      "metadata": {
        "trusted": true,
        "execution": {
          "iopub.status.busy": "2024-11-10T11:53:40.069641Z",
          "iopub.execute_input": "2024-11-10T11:53:40.070285Z",
          "iopub.status.idle": "2024-11-10T11:53:43.053722Z",
          "shell.execute_reply.started": "2024-11-10T11:53:40.070237Z",
          "shell.execute_reply": "2024-11-10T11:53:43.052068Z"
        },
        "id": "2FKyYJFceHMC"
      },
      "outputs": [],
      "execution_count": null
    },
    {
      "cell_type": "markdown",
      "source": [
        "# **step 3 : Classification**"
      ],
      "metadata": {
        "id": "kc-bjIA-eHMD"
      }
    },
    {
      "cell_type": "code",
      "source": [
        "#confusion matrix template\n",
        "def plot_confusion_matrix(cm,\n",
        "                          target_names,\n",
        "                          title='Confusion matrix',\n",
        "                          cmap=None,\n",
        "                          normalize=True):\n",
        "\n",
        "    import matplotlib.pyplot as plt\n",
        "    import numpy as np\n",
        "    import itertools\n",
        "\n",
        "    accuracy = np.trace(cm) / float(np.sum(cm))\n",
        "    misclass = 1 - accuracy\n",
        "\n",
        "    if cmap is None:\n",
        "        cmap = plt.get_cmap('Blues')\n",
        "\n",
        "    plt.figure(figsize=(8, 6))\n",
        "    plt.imshow(cm, interpolation='nearest', cmap=cmap)\n",
        "    plt.title(title)\n",
        "    plt.colorbar()\n",
        "\n",
        "    if target_names is not None:\n",
        "        tick_marks = np.arange(len(target_names))\n",
        "        plt.xticks(tick_marks, target_names, rotation=45)\n",
        "        plt.yticks(tick_marks, target_names)\n",
        "\n",
        "    if normalize:\n",
        "        cm = cm.astype('float') / cm.sum(axis=1)[:, np.newaxis]\n",
        "    thresh = cm.max() / 1.5 if normalize else cm.max() / 2\n",
        "    for i, j in itertools.product(range(cm.shape[0]), range(cm.shape[1])):\n",
        "        if normalize:\n",
        "            plt.text(j, i, \"{:0.4f}\".format(cm[i, j]),\n",
        "                     horizontalalignment=\"center\",\n",
        "                     color=\"white\" if cm[i, j] > thresh else \"black\")\n",
        "        else:\n",
        "            plt.text(j, i, \"{:,}\".format(cm[i, j]),\n",
        "                     horizontalalignment=\"center\",\n",
        "                     color=\"white\" if cm[i, j] > thresh else \"black\")\n",
        "    plt.tight_layout()\n",
        "    plt.ylabel('True label')\n",
        "    plt.xlabel('Predicted label\\naccuracy={:0.4f}; misclass={:0.4f}'.format(accuracy, misclass))\n",
        "    plt.show()"
      ],
      "metadata": {
        "trusted": true,
        "execution": {
          "iopub.status.busy": "2024-11-05T17:40:14.229697Z",
          "iopub.execute_input": "2024-11-05T17:40:14.230116Z",
          "iopub.status.idle": "2024-11-05T17:40:14.2445Z",
          "shell.execute_reply.started": "2024-11-05T17:40:14.230075Z",
          "shell.execute_reply": "2024-11-05T17:40:14.243224Z"
        },
        "jupyter": {
          "source_hidden": true
        },
        "id": "dCmQgdSaeHMD"
      },
      "outputs": [],
      "execution_count": null
    },
    {
      "cell_type": "markdown",
      "source": [
        "## **1-Split Data**"
      ],
      "metadata": {
        "id": "tCo-SajMeHMD"
      }
    },
    {
      "cell_type": "code",
      "source": [
        "df.head()"
      ],
      "metadata": {
        "trusted": true,
        "execution": {
          "iopub.status.busy": "2024-11-10T11:53:52.7764Z",
          "iopub.execute_input": "2024-11-10T11:53:52.776903Z",
          "iopub.status.idle": "2024-11-10T11:53:52.793767Z",
          "shell.execute_reply.started": "2024-11-10T11:53:52.776861Z",
          "shell.execute_reply": "2024-11-10T11:53:52.792404Z"
        },
        "id": "T5n99m6deHME"
      },
      "outputs": [],
      "execution_count": null
    },
    {
      "cell_type": "code",
      "source": [
        "from sklearn.model_selection import train_test_split\n",
        "\n",
        "X=df.drop(columns = ['loan_status'],axis=1)\n",
        "y=df['loan_status']\n",
        "\n",
        "X_train, X_test, y_train, y_test = train_test_split(X, y, test_size=0.25)\n",
        "\n",
        "print(\"The size of the input train data is: {}\".format(X_train.shape))\n",
        "print(\"The size of the output train data is: {}\".format(y_train.shape))\n",
        "print(\"The size of the input test data is: {}\".format(X_test.shape))\n",
        "print(\"The size of the output test data is: {}\".format(y_test.shape))"
      ],
      "metadata": {
        "trusted": true,
        "execution": {
          "iopub.status.busy": "2024-11-10T11:53:55.509264Z",
          "iopub.execute_input": "2024-11-10T11:53:55.509769Z",
          "iopub.status.idle": "2024-11-10T11:53:55.52945Z",
          "shell.execute_reply.started": "2024-11-10T11:53:55.509662Z",
          "shell.execute_reply": "2024-11-10T11:53:55.528139Z"
        },
        "id": "hbSNSIoWeHME"
      },
      "outputs": [],
      "execution_count": null
    },
    {
      "cell_type": "markdown",
      "source": [
        "## **2-Scaler**"
      ],
      "metadata": {
        "id": "UttA5gtceHME"
      }
    },
    {
      "cell_type": "code",
      "source": [
        "scaler_data = StandardScaler()\n",
        "\n",
        "X_train_scaled = scaler_data.fit_transform(X_train)\n",
        "X_test_scaled = scaler_data.fit_transform(X_test)\n",
        "\n",
        "fig = plt.figure(figsize=(10, 4))\n",
        "sns.distplot(X_train_scaled);"
      ],
      "metadata": {
        "trusted": true,
        "execution": {
          "iopub.status.busy": "2024-11-10T11:53:58.816519Z",
          "iopub.execute_input": "2024-11-10T11:53:58.817091Z",
          "iopub.status.idle": "2024-11-10T11:54:00.247401Z",
          "shell.execute_reply.started": "2024-11-10T11:53:58.817048Z",
          "shell.execute_reply": "2024-11-10T11:54:00.245904Z"
        },
        "id": "1XCOA9u2eHME"
      },
      "outputs": [],
      "execution_count": null
    },
    {
      "cell_type": "markdown",
      "source": [
        "## **3-The network architecture**"
      ],
      "metadata": {
        "id": "wTjxG_xceHME"
      }
    },
    {
      "cell_type": "code",
      "source": [
        "# import the necessary libraries\n",
        "from tensorflow import keras\n",
        "from tensorflow.keras import layers\n",
        "\n",
        "model = keras.Sequential([\n",
        "    layers.Dense(512, activation=\"relu\"),\n",
        "    layers.Dense(1, activation=\"sigmoid\")\n",
        "])"
      ],
      "metadata": {
        "trusted": true,
        "execution": {
          "iopub.status.busy": "2024-11-10T12:09:28.478841Z",
          "iopub.execute_input": "2024-11-10T12:09:28.479379Z",
          "iopub.status.idle": "2024-11-10T12:09:28.489752Z",
          "shell.execute_reply.started": "2024-11-10T12:09:28.479336Z",
          "shell.execute_reply": "2024-11-10T12:09:28.488442Z"
        },
        "id": "5Y7SjRqreHME"
      },
      "outputs": [],
      "execution_count": null
    },
    {
      "cell_type": "markdown",
      "source": [
        "## **4-The compilation step**"
      ],
      "metadata": {
        "id": "1wSWt-NieHMF"
      }
    },
    {
      "cell_type": "code",
      "source": [
        "model.compile(optimizer=\"rmsprop\", loss=\"binary_crossentropy\", metrics=[\"accuracy\"])"
      ],
      "metadata": {
        "trusted": true,
        "execution": {
          "iopub.status.busy": "2024-11-10T12:09:55.686752Z",
          "iopub.execute_input": "2024-11-10T12:09:55.687219Z",
          "iopub.status.idle": "2024-11-10T12:09:55.700228Z",
          "shell.execute_reply.started": "2024-11-10T12:09:55.687175Z",
          "shell.execute_reply": "2024-11-10T12:09:55.69867Z"
        },
        "id": "at0jtjK9eHMF"
      },
      "outputs": [],
      "execution_count": null
    },
    {
      "cell_type": "markdown",
      "source": [
        "## **5-\"Fitting\" the model**"
      ],
      "metadata": {
        "id": "Z7lPoVOSeHMF"
      }
    },
    {
      "cell_type": "code",
      "source": [
        "history = model.fit(X_train_scaled, y_train, validation_data=(X_test_scaled, y_test), epochs=12, batch_size=128)"
      ],
      "metadata": {
        "trusted": true,
        "execution": {
          "iopub.status.busy": "2024-11-10T12:09:58.827679Z",
          "iopub.execute_input": "2024-11-10T12:09:58.828174Z",
          "iopub.status.idle": "2024-11-10T12:10:06.246608Z",
          "shell.execute_reply.started": "2024-11-10T12:09:58.828128Z",
          "shell.execute_reply": "2024-11-10T12:10:06.24525Z"
        },
        "id": "l2i1N3P8eHMF"
      },
      "outputs": [],
      "execution_count": null
    },
    {
      "cell_type": "markdown",
      "source": [
        "## **6-Evaluate the model**"
      ],
      "metadata": {
        "id": "HCC5m0nkeHMF"
      }
    },
    {
      "cell_type": "code",
      "source": [
        "_, train_acc = model.evaluate(X_train_scaled, y_train, verbose=0)\n",
        "_, test_acc = model.evaluate(X_test_scaled, y_test, verbose=0)\n",
        "print('Train: %.3f, Test: %.3f' % (train_acc, test_acc))"
      ],
      "metadata": {
        "trusted": true,
        "execution": {
          "iopub.status.busy": "2024-11-10T12:10:13.028271Z",
          "iopub.execute_input": "2024-11-10T12:10:13.028715Z",
          "iopub.status.idle": "2024-11-10T12:10:14.416543Z",
          "shell.execute_reply.started": "2024-11-10T12:10:13.028675Z",
          "shell.execute_reply": "2024-11-10T12:10:14.41519Z"
        },
        "id": "xsAXcHmneHMF"
      },
      "outputs": [],
      "execution_count": null
    },
    {
      "cell_type": "markdown",
      "source": [
        "## **7-Plot loss & accuracy during training**"
      ],
      "metadata": {
        "id": "QWQl1YjgeHMG"
      }
    },
    {
      "cell_type": "code",
      "source": [
        "# plot loss during training\n",
        "plt.subplot(211)\n",
        "plt.title('Loss')\n",
        "plt.plot(history.history['loss'], label='train')\n",
        "plt.plot(history.history['val_loss'], label='test')\n",
        "plt.legend()\n",
        "\n",
        "# plot accuracy during training\n",
        "plt.subplot(212)\n",
        "plt.title('Accuracy')\n",
        "plt.plot(history.history['accuracy'], label='train')\n",
        "plt.plot(history.history['val_accuracy'], label='test')\n",
        "plt.legend()\n",
        "plt.show()"
      ],
      "metadata": {
        "trusted": true,
        "execution": {
          "iopub.status.busy": "2024-11-10T12:10:17.960293Z",
          "iopub.execute_input": "2024-11-10T12:10:17.960712Z",
          "iopub.status.idle": "2024-11-10T12:10:18.456755Z",
          "shell.execute_reply.started": "2024-11-10T12:10:17.960673Z",
          "shell.execute_reply": "2024-11-10T12:10:18.455196Z"
        },
        "id": "JHexM_-neHMG"
      },
      "outputs": [],
      "execution_count": null
    },
    {
      "cell_type": "markdown",
      "source": [
        "# **step 4 : 1D Convolutional Neural Network**"
      ],
      "metadata": {
        "id": "Gb1h9TBeeHMG"
      }
    },
    {
      "cell_type": "markdown",
      "source": [
        "## **1-Fit and Evaluate a model**"
      ],
      "metadata": {
        "id": "5kZtcc1yeHMG"
      }
    },
    {
      "cell_type": "code",
      "source": [
        "from keras.models import Sequential\n",
        "from keras.layers import Dense\n",
        "from keras.layers import Flatten\n",
        "from keras.layers import Dropout\n",
        "from keras.layers import Conv1D\n",
        "from keras.layers import MaxPooling1D\n",
        "\n",
        "def evaluate_model(trainX, trainy, testX, testy):\n",
        "    epochs, batch_size = 12, 128\n",
        "    trainX = trainX.reshape(trainX.shape[0], trainX.shape[1], 1)\n",
        "    testX = testX.reshape(testX.shape[0], testX.shape[1], 1)\n",
        "    n_timesteps, n_features = trainX.shape[1], trainX.shape[2]\n",
        "    model = Sequential()\n",
        "    model.add(Conv1D(filters=11, kernel_size=3, activation='relu', input_shape=(n_timesteps,n_features)))\n",
        "    model.add(Conv1D(filters=64, kernel_size=3, activation='relu'))\n",
        "    model.add(Dropout(0.5))\n",
        "    model.add(MaxPooling1D(pool_size=2))\n",
        "    model.add(Flatten())\n",
        "    model.add(Dense(100, activation='relu'))\n",
        "    model.add(Dense(1, activation='sigmoid'))\n",
        "    model.compile(loss='binary_crossentropy', optimizer='rmsprop', metrics=['accuracy'])\n",
        "    # fit network\n",
        "    model.fit(trainX, trainy, epochs=epochs, batch_size=batch_size, verbose=0)\n",
        "    # evaluate model\n",
        "    _, accuracy = model.evaluate(testX, testy, batch_size=batch_size, verbose=0)\n",
        "    return accuracy"
      ],
      "metadata": {
        "trusted": true,
        "execution": {
          "iopub.status.busy": "2024-11-10T13:21:59.939919Z",
          "iopub.execute_input": "2024-11-10T13:21:59.940411Z",
          "iopub.status.idle": "2024-11-10T13:21:59.952234Z",
          "shell.execute_reply.started": "2024-11-10T13:21:59.940368Z",
          "shell.execute_reply": "2024-11-10T13:21:59.950904Z"
        },
        "id": "j40LOKmneHMG"
      },
      "outputs": [],
      "execution_count": null
    },
    {
      "cell_type": "markdown",
      "source": [
        "## **2-Summarize Scores**"
      ],
      "metadata": {
        "id": "rmn_yLNKeHMG"
      }
    },
    {
      "cell_type": "code",
      "source": [
        "from numpy import mean\n",
        "from numpy import std\n",
        "\n",
        "def summarize_results(scores):\n",
        "\tprint(scores)\n",
        "\tm, s = mean(scores), std(scores)\n",
        "\tprint('Accuracy: %.3f%% (+/-%.3f)' % (m, s))"
      ],
      "metadata": {
        "trusted": true,
        "execution": {
          "iopub.status.busy": "2024-11-10T13:24:30.844598Z",
          "iopub.execute_input": "2024-11-10T13:24:30.845085Z",
          "iopub.status.idle": "2024-11-10T13:24:30.852266Z",
          "shell.execute_reply.started": "2024-11-10T13:24:30.845039Z",
          "shell.execute_reply": "2024-11-10T13:24:30.850533Z"
        },
        "id": "AnPFMD4-eHMH"
      },
      "outputs": [],
      "execution_count": null
    },
    {
      "cell_type": "markdown",
      "source": [
        "## **3-Run an Experiment**"
      ],
      "metadata": {
        "id": "V6wE8AOreHMH"
      }
    },
    {
      "cell_type": "code",
      "source": [
        "def run_experiment(repeats=10):\n",
        "\tscores = list()\n",
        "\tfor r in range(repeats):\n",
        "\t\tscore = evaluate_model(X_train_scaled, y_train, X_test_scaled, y_test)\n",
        "\t\tscore = score * 100.0\n",
        "\t\tprint('>#%d: %.3f' % (r+1, score))\n",
        "\t\tscores.append(score)\n",
        "\t# summarize results\n",
        "\tsummarize_results(scores)\n",
        "\n",
        "# run the experiment\n",
        "run_experiment()"
      ],
      "metadata": {
        "trusted": true,
        "execution": {
          "iopub.status.busy": "2024-11-10T13:24:38.218102Z",
          "iopub.execute_input": "2024-11-10T13:24:38.218522Z",
          "iopub.status.idle": "2024-11-10T13:26:28.798352Z",
          "shell.execute_reply.started": "2024-11-10T13:24:38.218487Z",
          "shell.execute_reply": "2024-11-10T13:26:28.796913Z"
        },
        "id": "5tByFasXeHMH"
      },
      "outputs": [],
      "execution_count": null
    }
  ]
}