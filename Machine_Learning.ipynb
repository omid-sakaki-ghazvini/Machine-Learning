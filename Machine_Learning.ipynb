{
  "metadata": {
    "kernelspec": {
      "language": "python",
      "display_name": "Python 3",
      "name": "python3"
    },
    "language_info": {
      "name": "python",
      "version": "3.10.14",
      "mimetype": "text/x-python",
      "codemirror_mode": {
        "name": "ipython",
        "version": 3
      },
      "pygments_lexer": "ipython3",
      "nbconvert_exporter": "python",
      "file_extension": ".py"
    },
    "kaggle": {
      "accelerator": "none",
      "dataSources": [
        {
          "sourceId": 9788026,
          "sourceType": "datasetVersion",
          "datasetId": 5997342
        }
      ],
      "dockerImageVersionId": 30786,
      "isInternetEnabled": true,
      "language": "python",
      "sourceType": "notebook",
      "isGpuEnabled": false
    },
    "colab": {
      "name": "Machine Learning",
      "provenance": [],
      "include_colab_link": true
    }
  },
  "nbformat_minor": 0,
  "nbformat": 4,
  "cells": [
    {
      "cell_type": "markdown",
      "metadata": {
        "id": "view-in-github",
        "colab_type": "text"
      },
      "source": [
        "<a href=\"https://colab.research.google.com/github/omid-sakaki-ghazvini/Machine-Learning/blob/main/Machine_Learning.ipynb\" target=\"_parent\"><img src=\"https://colab.research.google.com/assets/colab-badge.svg\" alt=\"Open In Colab\"/></a>"
      ]
    },
    {
      "source": [
        "# IMPORTANT: RUN THIS CELL IN ORDER TO IMPORT YOUR KAGGLE DATA SOURCES,\n",
        "# THEN FEEL FREE TO DELETE THIS CELL.\n",
        "# NOTE: THIS NOTEBOOK ENVIRONMENT DIFFERS FROM KAGGLE'S PYTHON\n",
        "# ENVIRONMENT SO THERE MAY BE MISSING LIBRARIES USED BY YOUR\n",
        "# NOTEBOOK.\n",
        "import kagglehub\n",
        "omidsakaki1370_data_preparation_example_path = kagglehub.dataset_download('omidsakaki1370/data-preparation-example')\n",
        "\n",
        "print('Data source import complete.')\n"
      ],
      "metadata": {
        "id": "ouqU2N_pkPtA"
      },
      "cell_type": "code",
      "outputs": [],
      "execution_count": null
    },
    {
      "cell_type": "code",
      "source": [
        "# This Python 3 environment comes with many helpful analytics libraries installed\n",
        "# It is defined by the kaggle/python Docker image: https://github.com/kaggle/docker-python\n",
        "# For example, here's several helpful packages to load\n",
        "\n",
        "import numpy as np # linear algebra\n",
        "import pandas as pd # data processing, CSV file I/O (e.g. pd.read_csv)\n",
        "\n",
        "# Input data files are available in the read-only \"../input/\" directory\n",
        "# For example, running this (by clicking run or pressing Shift+Enter) will list all files under the input directory\n",
        "\n",
        "import os\n",
        "for dirname, _, filenames in os.walk('/kaggle/input'):\n",
        "    for filename in filenames:\n",
        "        print(os.path.join(dirname, filename))\n",
        "\n",
        "# You can write up to 20GB to the current directory (/kaggle/working/) that gets preserved as output when you create a version using \"Save & Run All\"\n",
        "# You can also write temporary files to /kaggle/temp/, but they won't be saved outside of the current session"
      ],
      "metadata": {
        "_uuid": "8f2839f25d086af736a60e9eeb907d3b93b6e0e5",
        "_cell_guid": "b1076dfc-b9ad-4769-8c92-a6c4dae69d19",
        "trusted": true,
        "execution": {
          "iopub.status.busy": "2024-11-05T17:40:04.045962Z",
          "iopub.execute_input": "2024-11-05T17:40:04.046435Z",
          "iopub.status.idle": "2024-11-05T17:40:04.05568Z",
          "shell.execute_reply.started": "2024-11-05T17:40:04.046394Z",
          "shell.execute_reply": "2024-11-05T17:40:04.054315Z"
        },
        "id": "RRBOcFZUkPtD"
      },
      "outputs": [],
      "execution_count": null
    },
    {
      "cell_type": "code",
      "source": [
        "import pandas as pd\n",
        "import numpy as np\n",
        "from scipy import stats\n",
        "from sklearn.preprocessing import MinMaxScaler, StandardScaler, LabelEncoder\n",
        "from sklearn.impute import KNNImputer\n",
        "\n",
        "import seaborn as sns\n",
        "import matplotlib.pyplot as plt\n",
        "\n",
        "import warnings\n",
        "warnings.filterwarnings('ignore')"
      ],
      "metadata": {
        "trusted": true,
        "execution": {
          "iopub.status.busy": "2024-11-05T17:40:04.057956Z",
          "iopub.execute_input": "2024-11-05T17:40:04.058373Z",
          "iopub.status.idle": "2024-11-05T17:40:04.075406Z",
          "shell.execute_reply.started": "2024-11-05T17:40:04.058332Z",
          "shell.execute_reply": "2024-11-05T17:40:04.07404Z"
        },
        "id": "zRqWNPElkPtE"
      },
      "outputs": [],
      "execution_count": null
    },
    {
      "cell_type": "markdown",
      "source": [
        "# **Load Data**"
      ],
      "metadata": {
        "id": "y9GayMThkPtF"
      }
    },
    {
      "cell_type": "code",
      "source": [
        "df = pd.read_csv('/kaggle/input/data-preparation-example/credit_risk_dataset.csv')"
      ],
      "metadata": {
        "trusted": true,
        "execution": {
          "iopub.status.busy": "2024-11-05T17:40:04.077653Z",
          "iopub.execute_input": "2024-11-05T17:40:04.078113Z",
          "iopub.status.idle": "2024-11-05T17:40:04.136733Z",
          "shell.execute_reply.started": "2024-11-05T17:40:04.078066Z",
          "shell.execute_reply": "2024-11-05T17:40:04.135353Z"
        },
        "id": "-GuJUl4FkPtH"
      },
      "outputs": [],
      "execution_count": null
    },
    {
      "cell_type": "code",
      "source": [
        "df.info()"
      ],
      "metadata": {
        "trusted": true,
        "execution": {
          "iopub.status.busy": "2024-11-05T17:40:04.138693Z",
          "iopub.execute_input": "2024-11-05T17:40:04.139145Z",
          "iopub.status.idle": "2024-11-05T17:40:04.16326Z",
          "shell.execute_reply.started": "2024-11-05T17:40:04.139105Z",
          "shell.execute_reply": "2024-11-05T17:40:04.161798Z"
        },
        "id": "7q_IhZGXkPtI"
      },
      "outputs": [],
      "execution_count": null
    },
    {
      "cell_type": "code",
      "source": [
        "missing_values_count = df.isnull().sum()\n",
        "missing_values_count"
      ],
      "metadata": {
        "trusted": true,
        "execution": {
          "iopub.status.busy": "2024-11-05T17:40:04.166423Z",
          "iopub.execute_input": "2024-11-05T17:40:04.166937Z",
          "iopub.status.idle": "2024-11-05T17:40:04.186641Z",
          "shell.execute_reply.started": "2024-11-05T17:40:04.166891Z",
          "shell.execute_reply": "2024-11-05T17:40:04.185058Z"
        },
        "id": "Ntl9H_EokPtI"
      },
      "outputs": [],
      "execution_count": null
    },
    {
      "cell_type": "markdown",
      "source": [
        "# **Data Analysis**"
      ],
      "metadata": {
        "id": "ZYJrWr8QkPtI"
      }
    },
    {
      "cell_type": "code",
      "source": [
        "columns = {\n",
        "    'loan_status': df['loan_status'],\n",
        "    'loan_grade': df['loan_grade'],\n",
        "    'cb_person_default_on_file': df['cb_person_default_on_file'],\n",
        "    'person_home_ownership': df['person_home_ownership'],\n",
        "    'loan_intent': df['loan_intent'],\n",
        "}\n",
        "\n",
        "def plot_data(name, data):\n",
        "    plt.figure(figsize=(5, 5))\n",
        "    palette_color = sns.color_palette('pastel')\n",
        "    explode = [0.1 for _ in range(data.nunique())]\n",
        "\n",
        "    target_counts = df.groupby(name)[name].count()\n",
        "\n",
        "    target_counts.plot.pie(\n",
        "    colors=palette_color,\n",
        "    explode=explode,\n",
        "    autopct=\"%1.1f%%\",\n",
        "    shadow=True,\n",
        "    startangle=140,\n",
        "    textprops={'fontsize': 14},\n",
        "    wedgeprops={'edgecolor': 'black', 'linewidth': 1.5}\n",
        "    )\n",
        "\n",
        "    plt.title(name, fontsize=18, weight='bold')\n",
        "    plt.axis('equal')\n",
        "    plt.show()\n",
        "\n",
        "\n",
        "for name, data in columns.items():\n",
        "    plot_data(name, data)"
      ],
      "metadata": {
        "trusted": true,
        "execution": {
          "iopub.status.busy": "2024-11-05T17:40:04.187994Z",
          "iopub.execute_input": "2024-11-05T17:40:04.188515Z",
          "iopub.status.idle": "2024-11-05T17:40:05.379801Z",
          "shell.execute_reply.started": "2024-11-05T17:40:04.188439Z",
          "shell.execute_reply": "2024-11-05T17:40:05.378303Z"
        },
        "id": "vsxWLtNGkPtJ"
      },
      "outputs": [],
      "execution_count": null
    },
    {
      "cell_type": "markdown",
      "source": [
        "# **step 1 : Handle Missing Values & Data Cleaning**"
      ],
      "metadata": {
        "id": "js-iZb0AkPtK"
      }
    },
    {
      "cell_type": "markdown",
      "source": [
        "# [Data Cleaning Notebook](http://www.kaggle.com/code/omidsakaki1370/data-cleaning)\n",
        "# [Missing Values Notebook](http://www.kaggle.com/code/omidsakaki1370/missing-values)"
      ],
      "metadata": {
        "id": "jfLdd06SkPtK"
      }
    },
    {
      "cell_type": "markdown",
      "source": [
        "## **1-Normalization**"
      ],
      "metadata": {
        "id": "5ewYJorAkPtL"
      }
    },
    {
      "cell_type": "code",
      "source": [
        "columns = {'person_income','person_emp_length','loan_amnt','loan_int_rate','loan_percent_income','cb_person_cred_hist_length'}\n",
        "\n",
        "def distplot_data(data):\n",
        "    plt.figure(figsize=(8, 4))\n",
        "    sns.distplot(data);\n",
        "\n",
        "for i in columns:\n",
        "    distplot_data(df[i])"
      ],
      "metadata": {
        "trusted": true,
        "execution": {
          "iopub.status.busy": "2024-11-05T17:40:05.381691Z",
          "iopub.execute_input": "2024-11-05T17:40:05.38275Z",
          "iopub.status.idle": "2024-11-05T17:40:08.877925Z",
          "shell.execute_reply.started": "2024-11-05T17:40:05.382685Z",
          "shell.execute_reply": "2024-11-05T17:40:08.876754Z"
        },
        "id": "s-Vbg3IAkPtL"
      },
      "outputs": [],
      "execution_count": null
    },
    {
      "cell_type": "code",
      "source": [
        "fig = plt.figure(figsize=(14, 4))\n",
        "ax1 = plt.subplot(121)\n",
        "\n",
        "sns.distplot(df['person_income']);\n",
        "ax1.set_title(\"person_income\");\n",
        "\n",
        "df['person_income'] = np.log(df['person_income'])\n",
        "\n",
        "ax1 = plt.subplot(122)\n",
        "sns.distplot(df['person_income']);\n",
        "ax1.set_title(\"person_income_log\");"
      ],
      "metadata": {
        "trusted": true,
        "execution": {
          "iopub.status.busy": "2024-11-05T17:40:08.881392Z",
          "iopub.execute_input": "2024-11-05T17:40:08.883037Z",
          "iopub.status.idle": "2024-11-05T17:40:10.026778Z",
          "shell.execute_reply.started": "2024-11-05T17:40:08.882971Z",
          "shell.execute_reply": "2024-11-05T17:40:10.025336Z"
        },
        "id": "sG09O_EKkPtL"
      },
      "outputs": [],
      "execution_count": null
    },
    {
      "cell_type": "markdown",
      "source": [
        "## **2-Outliers**"
      ],
      "metadata": {
        "id": "oU5IA4CBkPtL"
      }
    },
    {
      "cell_type": "code",
      "source": [
        "def remove_outliers(df, column):\n",
        "    Q1 = df[column].quantile(0.25)\n",
        "    Q3 = df[column].quantile(0.75)\n",
        "    IQR = Q3 - Q1\n",
        "    lower_bound = Q1 - 1.5 * IQR\n",
        "    upper_bound = Q3 + 1.5 * IQR\n",
        "    df_out = df[(df[column] >= lower_bound) & (df[column] <= upper_bound)]\n",
        "    return df_out\n",
        "\n",
        "df = remove_outliers(df, 'person_age')\n",
        "df = remove_outliers(df, 'person_income')\n",
        "df = remove_outliers(df, 'person_emp_length')\n",
        "df = remove_outliers(df, 'cb_person_cred_hist_length')\n",
        "df.reset_index(drop=True, inplace=True)"
      ],
      "metadata": {
        "trusted": true,
        "execution": {
          "iopub.status.busy": "2024-11-05T17:40:10.028302Z",
          "iopub.execute_input": "2024-11-05T17:40:10.028695Z",
          "iopub.status.idle": "2024-11-05T17:40:10.067603Z",
          "shell.execute_reply.started": "2024-11-05T17:40:10.028653Z",
          "shell.execute_reply": "2024-11-05T17:40:10.06626Z"
        },
        "id": "lyVdIe98kPtL"
      },
      "outputs": [],
      "execution_count": null
    },
    {
      "cell_type": "markdown",
      "source": [
        "## **3-Encoder**"
      ],
      "metadata": {
        "id": "EtB0PSefkPtM"
      }
    },
    {
      "cell_type": "code",
      "source": [
        "encoder=LabelEncoder()\n",
        "\n",
        "df['person_home_ownership']=encoder.fit_transform(df['person_home_ownership'])\n",
        "df['loan_intent']=encoder.fit_transform(df['loan_intent'])\n",
        "df['loan_grade']=encoder.fit_transform(df['loan_grade'])\n",
        "df['cb_person_default_on_file']=encoder.fit_transform(df['cb_person_default_on_file'])"
      ],
      "metadata": {
        "trusted": true,
        "execution": {
          "iopub.status.busy": "2024-11-05T17:40:10.069296Z",
          "iopub.execute_input": "2024-11-05T17:40:10.069786Z",
          "iopub.status.idle": "2024-11-05T17:40:10.10497Z",
          "shell.execute_reply.started": "2024-11-05T17:40:10.069734Z",
          "shell.execute_reply": "2024-11-05T17:40:10.103604Z"
        },
        "id": "RkWYRehMkPtM"
      },
      "outputs": [],
      "execution_count": null
    },
    {
      "cell_type": "markdown",
      "source": [
        "## **4-missing values**"
      ],
      "metadata": {
        "id": "tp6IPFAWkPtM"
      }
    },
    {
      "cell_type": "code",
      "source": [
        "missing_values_count = df.isnull().sum()\n",
        "missing_values_count"
      ],
      "metadata": {
        "trusted": true,
        "execution": {
          "iopub.status.busy": "2024-11-05T17:40:10.106392Z",
          "iopub.execute_input": "2024-11-05T17:40:10.106831Z",
          "iopub.status.idle": "2024-11-05T17:40:10.119334Z",
          "shell.execute_reply.started": "2024-11-05T17:40:10.106789Z",
          "shell.execute_reply": "2024-11-05T17:40:10.117815Z"
        },
        "id": "VsiNAkcVkPtN"
      },
      "outputs": [],
      "execution_count": null
    },
    {
      "cell_type": "code",
      "source": [
        "df = df.fillna(method = 'ffill')\n",
        "missing_values_count = df.isnull().sum()\n",
        "\n",
        "print(missing_values_count)\n",
        "df.head(10)"
      ],
      "metadata": {
        "trusted": true,
        "execution": {
          "iopub.status.busy": "2024-11-05T17:40:10.121223Z",
          "iopub.execute_input": "2024-11-05T17:40:10.121641Z",
          "iopub.status.idle": "2024-11-05T17:40:10.146861Z",
          "shell.execute_reply.started": "2024-11-05T17:40:10.121598Z",
          "shell.execute_reply": "2024-11-05T17:40:10.145779Z"
        },
        "id": "suhTVBG3kPtN"
      },
      "outputs": [],
      "execution_count": null
    },
    {
      "cell_type": "code",
      "source": [
        "X = df.copy()\n",
        "y = X.pop(\"loan_status\")"
      ],
      "metadata": {
        "trusted": true,
        "execution": {
          "iopub.status.busy": "2024-11-05T17:40:10.1481Z",
          "iopub.execute_input": "2024-11-05T17:40:10.148428Z",
          "iopub.status.idle": "2024-11-05T17:40:10.156639Z",
          "shell.execute_reply.started": "2024-11-05T17:40:10.148396Z",
          "shell.execute_reply": "2024-11-05T17:40:10.155543Z"
        },
        "id": "4vpIGc6CkPtN"
      },
      "outputs": [],
      "execution_count": null
    },
    {
      "cell_type": "markdown",
      "source": [
        "# **step 2 : Feature Engineering**"
      ],
      "metadata": {
        "id": "ugYrvgFAkPtN"
      }
    },
    {
      "cell_type": "markdown",
      "source": [
        "# [Feature Engineering Notebook](https://www.kaggle.com/code/omidsakaki1370/feature-engineering)"
      ],
      "metadata": {
        "id": "su2-YujNkPtN"
      }
    },
    {
      "cell_type": "code",
      "source": [
        "X_test = X.copy()"
      ],
      "metadata": {
        "trusted": true,
        "execution": {
          "iopub.status.busy": "2024-11-05T17:40:10.158333Z",
          "iopub.execute_input": "2024-11-05T17:40:10.158735Z",
          "iopub.status.idle": "2024-11-05T17:40:10.167386Z",
          "shell.execute_reply.started": "2024-11-05T17:40:10.158695Z",
          "shell.execute_reply": "2024-11-05T17:40:10.166117Z"
        },
        "id": "IA1R7XOCkPtO"
      },
      "outputs": [],
      "execution_count": null
    },
    {
      "cell_type": "code",
      "source": [
        "from sklearn.feature_selection import VarianceThreshold\n",
        "\n",
        "selector = VarianceThreshold()\n",
        "X_new = selector.fit_transform(X_test, y)\n",
        "\n",
        "print('X shape :', X.shape)\n",
        "print('X_new shape :', X_new.shape)"
      ],
      "metadata": {
        "trusted": true,
        "execution": {
          "iopub.status.busy": "2024-11-05T17:40:10.172102Z",
          "iopub.execute_input": "2024-11-05T17:40:10.172749Z",
          "iopub.status.idle": "2024-11-05T17:40:10.188459Z",
          "shell.execute_reply.started": "2024-11-05T17:40:10.172707Z",
          "shell.execute_reply": "2024-11-05T17:40:10.187324Z"
        },
        "id": "yluoFJcikPtO"
      },
      "outputs": [],
      "execution_count": null
    },
    {
      "cell_type": "markdown",
      "source": [
        "## **Creating Features**"
      ],
      "metadata": {
        "id": "8NFcz-TGkPtO"
      }
    },
    {
      "cell_type": "code",
      "source": [
        "X.head(10)"
      ],
      "metadata": {
        "trusted": true,
        "execution": {
          "iopub.status.busy": "2024-11-05T17:40:10.189926Z",
          "iopub.execute_input": "2024-11-05T17:40:10.190401Z",
          "iopub.status.idle": "2024-11-05T17:40:10.209814Z",
          "shell.execute_reply.started": "2024-11-05T17:40:10.190351Z",
          "shell.execute_reply": "2024-11-05T17:40:10.208477Z"
        },
        "id": "dN8tizXwkPtO"
      },
      "outputs": [],
      "execution_count": null
    },
    {
      "cell_type": "code",
      "source": [
        "X[\"New_Features\"] = round(X.loan_int_rate - X.person_income).astype(int)\n",
        "\n",
        "X[[\"loan_int_rate\", \"person_income\", \"New_Features\"]].head(10)"
      ],
      "metadata": {
        "trusted": true,
        "execution": {
          "iopub.status.busy": "2024-11-05T17:40:10.211798Z",
          "iopub.execute_input": "2024-11-05T17:40:10.212724Z",
          "iopub.status.idle": "2024-11-05T17:40:10.230022Z",
          "shell.execute_reply.started": "2024-11-05T17:40:10.212664Z",
          "shell.execute_reply": "2024-11-05T17:40:10.229001Z"
        },
        "id": "tLb2z1WZkPtO"
      },
      "outputs": [],
      "execution_count": null
    },
    {
      "cell_type": "code",
      "source": [
        "def F(x):\n",
        "    if x>=0:\n",
        "        return 1\n",
        "    else:\n",
        "        return 0\n",
        "\n",
        "X['New_Features'] = X['New_Features'].apply(F)\n",
        "\n",
        "print(X['New_Features'].head(10))\n",
        "print(y.head(10))"
      ],
      "metadata": {
        "trusted": true,
        "execution": {
          "iopub.status.busy": "2024-11-05T17:40:10.231675Z",
          "iopub.execute_input": "2024-11-05T17:40:10.232009Z",
          "iopub.status.idle": "2024-11-05T17:40:10.252452Z",
          "shell.execute_reply.started": "2024-11-05T17:40:10.231975Z",
          "shell.execute_reply": "2024-11-05T17:40:10.251273Z"
        },
        "id": "vGv31GOZkPtO"
      },
      "outputs": [],
      "execution_count": null
    },
    {
      "cell_type": "markdown",
      "source": [
        "## **Clustering With K-Means**"
      ],
      "metadata": {
        "id": "tEhc9pVikPtO"
      }
    },
    {
      "cell_type": "code",
      "source": [
        "from sklearn.cluster import KMeans\n",
        "\n",
        "kmeans = KMeans(n_clusters=4)\n",
        "\n",
        "X[\"Cluster\"] = kmeans.fit_predict(X)\n",
        "X[\"Cluster\"] = X[\"Cluster\"].astype(\"category\")\n",
        "X.head()"
      ],
      "metadata": {
        "trusted": true,
        "execution": {
          "iopub.status.busy": "2024-11-05T17:40:10.254059Z",
          "iopub.execute_input": "2024-11-05T17:40:10.254535Z",
          "iopub.status.idle": "2024-11-05T17:40:11.245479Z",
          "shell.execute_reply.started": "2024-11-05T17:40:10.254471Z",
          "shell.execute_reply": "2024-11-05T17:40:11.244275Z"
        },
        "id": "h8RTFBtikPtP"
      },
      "outputs": [],
      "execution_count": null
    },
    {
      "cell_type": "code",
      "source": [
        "sns.relplot(x=\"person_income\", y=\"loan_percent_income\", hue=\"Cluster\", data=X, height=4);"
      ],
      "metadata": {
        "trusted": true,
        "execution": {
          "iopub.status.busy": "2024-11-05T17:40:11.251308Z",
          "iopub.execute_input": "2024-11-05T17:40:11.254454Z",
          "iopub.status.idle": "2024-11-05T17:40:14.228268Z",
          "shell.execute_reply.started": "2024-11-05T17:40:11.254382Z",
          "shell.execute_reply": "2024-11-05T17:40:14.227117Z"
        },
        "id": "7icIasDgkPtP"
      },
      "outputs": [],
      "execution_count": null
    },
    {
      "cell_type": "markdown",
      "source": [
        "# **step 3 : Classification**"
      ],
      "metadata": {
        "id": "s7zomJ54kPtP"
      }
    },
    {
      "cell_type": "code",
      "source": [
        "#confusion matrix template\n",
        "def plot_confusion_matrix(cm,\n",
        "                          target_names,\n",
        "                          title='Confusion matrix',\n",
        "                          cmap=None,\n",
        "                          normalize=True):\n",
        "\n",
        "    import matplotlib.pyplot as plt\n",
        "    import numpy as np\n",
        "    import itertools\n",
        "\n",
        "    accuracy = np.trace(cm) / float(np.sum(cm))\n",
        "    misclass = 1 - accuracy\n",
        "\n",
        "    if cmap is None:\n",
        "        cmap = plt.get_cmap('Blues')\n",
        "\n",
        "    plt.figure(figsize=(8, 6))\n",
        "    plt.imshow(cm, interpolation='nearest', cmap=cmap)\n",
        "    plt.title(title)\n",
        "    plt.colorbar()\n",
        "\n",
        "    if target_names is not None:\n",
        "        tick_marks = np.arange(len(target_names))\n",
        "        plt.xticks(tick_marks, target_names, rotation=45)\n",
        "        plt.yticks(tick_marks, target_names)\n",
        "\n",
        "    if normalize:\n",
        "        cm = cm.astype('float') / cm.sum(axis=1)[:, np.newaxis]\n",
        "    thresh = cm.max() / 1.5 if normalize else cm.max() / 2\n",
        "    for i, j in itertools.product(range(cm.shape[0]), range(cm.shape[1])):\n",
        "        if normalize:\n",
        "            plt.text(j, i, \"{:0.4f}\".format(cm[i, j]),\n",
        "                     horizontalalignment=\"center\",\n",
        "                     color=\"white\" if cm[i, j] > thresh else \"black\")\n",
        "        else:\n",
        "            plt.text(j, i, \"{:,}\".format(cm[i, j]),\n",
        "                     horizontalalignment=\"center\",\n",
        "                     color=\"white\" if cm[i, j] > thresh else \"black\")\n",
        "    plt.tight_layout()\n",
        "    plt.ylabel('True label')\n",
        "    plt.xlabel('Predicted label\\naccuracy={:0.4f}; misclass={:0.4f}'.format(accuracy, misclass))\n",
        "    plt.show()"
      ],
      "metadata": {
        "trusted": true,
        "execution": {
          "iopub.status.busy": "2024-11-05T17:40:14.229697Z",
          "iopub.execute_input": "2024-11-05T17:40:14.230116Z",
          "iopub.status.idle": "2024-11-05T17:40:14.2445Z",
          "shell.execute_reply.started": "2024-11-05T17:40:14.230075Z",
          "shell.execute_reply": "2024-11-05T17:40:14.243224Z"
        },
        "jupyter": {
          "source_hidden": true
        },
        "id": "HlphcnbWkPtP"
      },
      "outputs": [],
      "execution_count": null
    },
    {
      "cell_type": "markdown",
      "source": [
        "## **1-Split Data**"
      ],
      "metadata": {
        "id": "40cebKVokPtQ"
      }
    },
    {
      "cell_type": "code",
      "source": [
        "df.head()"
      ],
      "metadata": {
        "trusted": true,
        "execution": {
          "iopub.status.busy": "2024-11-05T17:40:14.246045Z",
          "iopub.execute_input": "2024-11-05T17:40:14.246442Z",
          "iopub.status.idle": "2024-11-05T17:40:14.274143Z",
          "shell.execute_reply.started": "2024-11-05T17:40:14.246405Z",
          "shell.execute_reply": "2024-11-05T17:40:14.272595Z"
        },
        "id": "AhbYMTdBkPtQ"
      },
      "outputs": [],
      "execution_count": null
    },
    {
      "cell_type": "code",
      "source": [
        "from sklearn.model_selection import train_test_split\n",
        "\n",
        "X=df.drop(columns = ['loan_status'],axis=1)\n",
        "y=df['loan_status']\n",
        "\n",
        "X_train, X_test, y_train, y_test = train_test_split(X, y, test_size=0.25)\n",
        "\n",
        "print(\"The size of the input train data is: {}\".format(X_train.shape))\n",
        "print(\"The size of the output train data is: {}\".format(y_train.shape))\n",
        "print(\"The size of the input test data is: {}\".format(X_test.shape))\n",
        "print(\"The size of the output test data is: {}\".format(y_test.shape))"
      ],
      "metadata": {
        "trusted": true,
        "execution": {
          "iopub.status.busy": "2024-11-05T17:40:14.275436Z",
          "iopub.execute_input": "2024-11-05T17:40:14.275851Z",
          "iopub.status.idle": "2024-11-05T17:40:14.296236Z",
          "shell.execute_reply.started": "2024-11-05T17:40:14.275802Z",
          "shell.execute_reply": "2024-11-05T17:40:14.294935Z"
        },
        "id": "b0NQXl_ekPtQ"
      },
      "outputs": [],
      "execution_count": null
    },
    {
      "cell_type": "markdown",
      "source": [
        "## **2-Scaler**"
      ],
      "metadata": {
        "id": "VwDEYnPGkPtQ"
      }
    },
    {
      "cell_type": "code",
      "source": [
        "scaler_data = StandardScaler()\n",
        "\n",
        "X_train_scaled = scaler_data.fit_transform(X_train)\n",
        "X_test_scaled = scaler_data.fit_transform(X_test)\n",
        "\n",
        "fig = plt.figure(figsize=(10, 4))\n",
        "sns.distplot(X_train_scaled);"
      ],
      "metadata": {
        "trusted": true,
        "execution": {
          "iopub.status.busy": "2024-11-05T17:40:14.29786Z",
          "iopub.execute_input": "2024-11-05T17:40:14.298352Z",
          "iopub.status.idle": "2024-11-05T17:40:15.721437Z",
          "shell.execute_reply.started": "2024-11-05T17:40:14.2983Z",
          "shell.execute_reply": "2024-11-05T17:40:15.72018Z"
        },
        "id": "6pSMy0U7kPtQ"
      },
      "outputs": [],
      "execution_count": null
    },
    {
      "cell_type": "markdown",
      "source": [
        "## **3-Logistic Regression**"
      ],
      "metadata": {
        "id": "NtCRW5wckPtQ"
      }
    },
    {
      "cell_type": "code",
      "source": [
        "# import the necessary libraries\n",
        "from sklearn.linear_model import LogisticRegression\n",
        "from sklearn.metrics import classification_report\n",
        "from sklearn.metrics import classification_report,confusion_matrix\n",
        "\n",
        "# LogisticRegression\n",
        "LR = LogisticRegression()\n",
        "LR.fit(X_train_scaled,y_train)\n",
        "\n",
        "# Prediction\n",
        "prediction=LR.predict(X_test_scaled)\n",
        "\n",
        "#Plot Result\n",
        "cm = confusion_matrix(prediction,y_test)\n",
        "#print(cm)\n",
        "plot_confusion_matrix(cm,\n",
        "                          target_names=['1', '0'],\n",
        "                          title='Logistic Regression',\n",
        "                          cmap=None,\n",
        "                          normalize=True)\n",
        "sk_report = classification_report(\n",
        "    digits=2,\n",
        "    y_true=prediction,\n",
        "    y_pred=y_test)\n",
        "print(sk_report)"
      ],
      "metadata": {
        "trusted": true,
        "execution": {
          "iopub.status.busy": "2024-11-05T17:40:15.723144Z",
          "iopub.execute_input": "2024-11-05T17:40:15.723651Z",
          "iopub.status.idle": "2024-11-05T17:40:16.162563Z",
          "shell.execute_reply.started": "2024-11-05T17:40:15.723596Z",
          "shell.execute_reply": "2024-11-05T17:40:16.161331Z"
        },
        "id": "-vmcRmYzkPtQ"
      },
      "outputs": [],
      "execution_count": null
    },
    {
      "cell_type": "markdown",
      "source": [
        "## **4-Decision Tree**"
      ],
      "metadata": {
        "id": "QmrWCHa5kPtQ"
      }
    },
    {
      "cell_type": "code",
      "source": [
        "# import the necessary libraries\n",
        "from sklearn.tree import DecisionTreeClassifier\n",
        "from sklearn.metrics import classification_report\n",
        "from sklearn.metrics import classification_report,confusion_matrix\n",
        "\n",
        "# Decision Tree\n",
        "Tree = DecisionTreeClassifier()\n",
        "Tree.fit(X_train_scaled,y_train)\n",
        "\n",
        "# Prediction\n",
        "prediction=Tree.predict(X_test_scaled)\n",
        "\n",
        "#Plot Result\n",
        "cm = confusion_matrix(prediction,y_test)\n",
        "#print(cm)\n",
        "plot_confusion_matrix(cm,\n",
        "                          target_names=['1', '0'],\n",
        "                          title='Decision Tree',\n",
        "                          cmap=None,\n",
        "                          normalize=True)\n",
        "sk_report = classification_report(\n",
        "    digits=2,\n",
        "    y_true=prediction,\n",
        "    y_pred=y_test)\n",
        "print(sk_report)"
      ],
      "metadata": {
        "trusted": true,
        "execution": {
          "iopub.status.busy": "2024-11-05T17:40:16.164067Z",
          "iopub.execute_input": "2024-11-05T17:40:16.164571Z",
          "iopub.status.idle": "2024-11-05T17:40:16.654503Z",
          "shell.execute_reply.started": "2024-11-05T17:40:16.164519Z",
          "shell.execute_reply": "2024-11-05T17:40:16.652928Z"
        },
        "id": "pelubT4jkPtR"
      },
      "outputs": [],
      "execution_count": null
    },
    {
      "cell_type": "markdown",
      "source": [
        "## **5-Random Forest**"
      ],
      "metadata": {
        "id": "gH-fpJN2kPtR"
      }
    },
    {
      "cell_type": "code",
      "source": [
        "# import the necessary libraries\n",
        "from sklearn.ensemble import RandomForestClassifier\n",
        "from sklearn.metrics import classification_report\n",
        "from sklearn.metrics import classification_report,confusion_matrix\n",
        "\n",
        "# Random Forest\n",
        "RF = RandomForestClassifier()\n",
        "RF.fit(X_train_scaled,y_train)\n",
        "\n",
        "# Prediction\n",
        "prediction=RF.predict(X_test_scaled)\n",
        "\n",
        "#Plot Result\n",
        "cm = confusion_matrix(prediction,y_test)\n",
        "#print(cm)\n",
        "plot_confusion_matrix(cm,\n",
        "                          target_names=['1', '0'],\n",
        "                          title='Random Forest',\n",
        "                          cmap=None,\n",
        "                          normalize=True)\n",
        "sk_report = classification_report(\n",
        "    digits=2,\n",
        "    y_true=prediction,\n",
        "    y_pred=y_test)\n",
        "print(sk_report)"
      ],
      "metadata": {
        "trusted": true,
        "execution": {
          "iopub.status.busy": "2024-11-05T17:40:16.65599Z",
          "iopub.execute_input": "2024-11-05T17:40:16.656382Z",
          "iopub.status.idle": "2024-11-05T17:40:20.596501Z",
          "shell.execute_reply.started": "2024-11-05T17:40:16.656341Z",
          "shell.execute_reply": "2024-11-05T17:40:20.595058Z"
        },
        "id": "50tq13m_kPtR"
      },
      "outputs": [],
      "execution_count": null
    },
    {
      "cell_type": "markdown",
      "source": [
        "## **6-Support Vector Machine**"
      ],
      "metadata": {
        "id": "eSLgt8vkkPtR"
      }
    },
    {
      "cell_type": "code",
      "source": [
        "# import the necessary libraries\n",
        "from sklearn.svm import SVC\n",
        "from sklearn.metrics import classification_report\n",
        "from sklearn.metrics import classification_report,confusion_matrix\n",
        "\n",
        "# Support Vector Machine\n",
        "SVM = SVC()\n",
        "SVM.fit(X_train_scaled,y_train)\n",
        "\n",
        "# Prediction\n",
        "prediction=SVM.predict(X_test_scaled)\n",
        "\n",
        "#Plot Result\n",
        "cm = confusion_matrix(prediction,y_test)\n",
        "#print(cm)\n",
        "plot_confusion_matrix(cm,\n",
        "                          target_names=['1', '0'],\n",
        "                          title='Support Vector Machine',\n",
        "                          cmap=None,\n",
        "                          normalize=True)\n",
        "sk_report = classification_report(\n",
        "    digits=2,\n",
        "    y_true=prediction,\n",
        "    y_pred=y_test)\n",
        "print(sk_report)"
      ],
      "metadata": {
        "trusted": true,
        "execution": {
          "iopub.status.busy": "2024-11-05T17:40:20.598031Z",
          "iopub.execute_input": "2024-11-05T17:40:20.598504Z",
          "iopub.status.idle": "2024-11-05T17:40:32.055721Z",
          "shell.execute_reply.started": "2024-11-05T17:40:20.598451Z",
          "shell.execute_reply": "2024-11-05T17:40:32.054327Z"
        },
        "id": "RxjC2qqhkPtR"
      },
      "outputs": [],
      "execution_count": null
    },
    {
      "cell_type": "markdown",
      "source": [
        "## **7-k-nearest neighbor**"
      ],
      "metadata": {
        "id": "u6PusgutkPtS"
      }
    },
    {
      "cell_type": "code",
      "source": [
        "# import the necessary libraries\n",
        "from sklearn.neighbors import KNeighborsClassifier\n",
        "from sklearn.metrics import classification_report\n",
        "from sklearn.metrics import classification_report,confusion_matrix\n",
        "\n",
        "# k-nearest neighbor\n",
        "KNN = KNeighborsClassifier(n_neighbors=15)\n",
        "KNN.fit(X_train_scaled,y_train)\n",
        "\n",
        "# Prediction\n",
        "prediction=KNN.predict(X_test_scaled)\n",
        "\n",
        "#Plot Result\n",
        "cm = confusion_matrix(prediction,y_test)\n",
        "#print(cm)\n",
        "plot_confusion_matrix(cm,\n",
        "                          target_names=['1', '0'],\n",
        "                          title='k-nearest neighbor',\n",
        "                          cmap=None,\n",
        "                          normalize=True)\n",
        "sk_report = classification_report(\n",
        "    digits=2,\n",
        "    y_true=prediction,\n",
        "    y_pred=y_test)\n",
        "print(sk_report)"
      ],
      "metadata": {
        "trusted": true,
        "execution": {
          "iopub.status.busy": "2024-11-05T17:40:32.057528Z",
          "iopub.execute_input": "2024-11-05T17:40:32.057958Z",
          "iopub.status.idle": "2024-11-05T17:40:33.869722Z",
          "shell.execute_reply.started": "2024-11-05T17:40:32.057919Z",
          "shell.execute_reply": "2024-11-05T17:40:33.868454Z"
        },
        "id": "LqBczDWgkPtS"
      },
      "outputs": [],
      "execution_count": null
    },
    {
      "cell_type": "markdown",
      "source": [
        "## **8-Gradient Boosting**"
      ],
      "metadata": {
        "id": "g4wNzNh3kPtS"
      }
    },
    {
      "cell_type": "code",
      "source": [
        "# import the necessary libraries\n",
        "from sklearn.ensemble import GradientBoostingClassifier\n",
        "from sklearn.metrics import classification_report\n",
        "from sklearn.metrics import classification_report,confusion_matrix\n",
        "\n",
        "# Gradient Boosting\n",
        "GB = GradientBoostingClassifier( n_estimators=300,\n",
        "                                 learning_rate=0.05,\n",
        "                                 random_state=100,\n",
        "                                 max_features=5)\n",
        "GB.fit(X_train_scaled,y_train)\n",
        "\n",
        "# Prediction\n",
        "prediction=GB.predict(X_test_scaled)\n",
        "\n",
        "#Plot Result\n",
        "cm = confusion_matrix(prediction,y_test)\n",
        "#print(cm)\n",
        "plot_confusion_matrix(cm,\n",
        "                          target_names=['1', '0'],\n",
        "                          title='Gradient Boosting',\n",
        "                          cmap=None,\n",
        "                          normalize=True)\n",
        "sk_report = classification_report(\n",
        "    digits=2,\n",
        "    y_true=prediction,\n",
        "    y_pred=y_test)\n",
        "print(sk_report)"
      ],
      "metadata": {
        "execution": {
          "iopub.status.busy": "2024-11-05T17:40:33.871422Z",
          "iopub.execute_input": "2024-11-05T17:40:33.871931Z",
          "iopub.status.idle": "2024-11-05T17:40:38.658473Z",
          "shell.execute_reply.started": "2024-11-05T17:40:33.871878Z",
          "shell.execute_reply": "2024-11-05T17:40:38.657037Z"
        },
        "trusted": true,
        "id": "q23keY-YkPtS"
      },
      "outputs": [],
      "execution_count": null
    },
    {
      "cell_type": "markdown",
      "source": [
        "## **9-MLP**"
      ],
      "metadata": {
        "id": "LDraXNyKkPtS"
      }
    },
    {
      "cell_type": "code",
      "source": [
        "from sklearn.neural_network import MLPClassifier\n",
        "\n",
        "MLP = MLPClassifier(hidden_layer_sizes=(512), max_iter=50, solver='sgd', random_state=1, verbose=True)\n",
        "MLP.fit(X_train_scaled, y_train)\n",
        "\n",
        "# Prediction\n",
        "prediction=MLP.predict(X_test_scaled)\n",
        "\n",
        "#Plot Result\n",
        "cm = confusion_matrix(prediction,y_test)\n",
        "#print(cm)\n",
        "plot_confusion_matrix(cm,\n",
        "                          target_names=['1', '0'],\n",
        "                          title='MLP',\n",
        "                          cmap=None,\n",
        "                          normalize=True)\n",
        "sk_report = classification_report(\n",
        "    digits=2,\n",
        "    y_true=prediction,\n",
        "    y_pred=y_test)\n",
        "print(sk_report)"
      ],
      "metadata": {
        "trusted": true,
        "execution": {
          "iopub.status.busy": "2024-11-05T17:40:38.659946Z",
          "iopub.execute_input": "2024-11-05T17:40:38.660313Z",
          "iopub.status.idle": "2024-11-05T17:40:58.517216Z",
          "shell.execute_reply.started": "2024-11-05T17:40:38.660277Z",
          "shell.execute_reply": "2024-11-05T17:40:58.515783Z"
        },
        "id": "TJmVxhbRkPtT"
      },
      "outputs": [],
      "execution_count": null
    },
    {
      "cell_type": "markdown",
      "source": [
        "## **10-Voting Classifier**"
      ],
      "metadata": {
        "id": "jN3-wu4RkPtT"
      }
    },
    {
      "cell_type": "code",
      "source": [
        "from sklearn.ensemble import VotingClassifier\n",
        "\n",
        "Voting = VotingClassifier(\n",
        "    estimators=[(\"Logistic Regression\", LR), (\"Decision Tree\", Tree), (\"Random Forest\", RF),\n",
        "               (\"Support Vector Machine\",SVM), (\"k-nearest neighbor\",KNN), (\"Gradient Boosting\",GB)],\n",
        "    voting='hard',\n",
        ")\n",
        "\n",
        "Voting.fit(X_train_scaled,y_train)\n",
        "\n",
        "# Prediction\n",
        "prediction=Voting.predict(X_test_scaled)\n",
        "\n",
        "#Plot Result\n",
        "cm = confusion_matrix(prediction,y_test)\n",
        "#print(cm)\n",
        "plot_confusion_matrix(cm,\n",
        "                          target_names=['1', '0'],\n",
        "                          title='Voting Classifier',\n",
        "                          cmap=None,\n",
        "                          normalize=True)\n",
        "sk_report = classification_report(\n",
        "    digits=2,\n",
        "    y_true=prediction,\n",
        "    y_pred=y_test)\n",
        "print(sk_report)"
      ],
      "metadata": {
        "trusted": true,
        "execution": {
          "iopub.status.busy": "2024-11-05T17:40:58.51887Z",
          "iopub.execute_input": "2024-11-05T17:40:58.519303Z",
          "iopub.status.idle": "2024-11-05T17:41:19.696627Z",
          "shell.execute_reply.started": "2024-11-05T17:40:58.519259Z",
          "shell.execute_reply": "2024-11-05T17:41:19.695252Z"
        },
        "id": "5JWLdt74kPtT"
      },
      "outputs": [],
      "execution_count": null
    },
    {
      "cell_type": "markdown",
      "source": [
        "## **11-Cross-Validation**"
      ],
      "metadata": {
        "id": "nmw6RPxIkPtT"
      }
    },
    {
      "cell_type": "code",
      "source": [
        "from sklearn.model_selection import StratifiedKFold\n",
        "from sklearn.metrics import accuracy_score\n",
        "\n",
        "mean_accuracy = []\n",
        "i = 1\n",
        "kf = StratifiedKFold(n_splits=10, random_state=1, shuffle=True)\n",
        "\n",
        "for train_index, test_index in kf.split(X_train_scaled, y_train):\n",
        "    print('\\n{} of kfold {}'.format(i, kf.n_splits))\n",
        "    xtr, xvl = X.loc[train_index], X.loc[test_index]\n",
        "    ytr, yvl = y[train_index], y[test_index]\n",
        "\n",
        "    Voting.fit(xtr, ytr)\n",
        "    pred_test = Voting.predict(xvl)\n",
        "    score = accuracy_score(yvl, pred_test)\n",
        "    mean_accuracy.append(score)\n",
        "    print('accuracy_score', score)\n",
        "    i+=1\n",
        "\n",
        "print(\"\\nMean validation accuracy: \", sum(mean_accuracy)/len(mean_accuracy))"
      ],
      "metadata": {
        "trusted": true,
        "execution": {
          "iopub.status.busy": "2024-11-05T17:41:19.698032Z",
          "iopub.execute_input": "2024-11-05T17:41:19.698403Z",
          "iopub.status.idle": "2024-11-05T17:43:54.981715Z",
          "shell.execute_reply.started": "2024-11-05T17:41:19.698364Z",
          "shell.execute_reply": "2024-11-05T17:43:54.980388Z"
        },
        "id": "Wmmw_FapkPtT"
      },
      "outputs": [],
      "execution_count": null
    },
    {
      "cell_type": "code",
      "source": [
        "from statistics import stdev\n",
        "from sklearn.model_selection import cross_val_score\n",
        "\n",
        "score = cross_val_score(Voting, X_train_scaled, y_train, cv=5, scoring='recall')\n",
        "\n",
        "Voting_cv_score = score.mean()\n",
        "Voting_cv_stdev = stdev(score)\n",
        "\n",
        "print('Cross Validation Recall scores are: {}'.format(score))\n",
        "print('Average Cross Validation Recall score: ', Voting_cv_score)\n",
        "print('Cross Validation Recall standard deviation: ', Voting_cv_stdev)"
      ],
      "metadata": {
        "trusted": true,
        "execution": {
          "iopub.status.busy": "2024-11-05T17:43:54.983453Z",
          "iopub.execute_input": "2024-11-05T17:43:54.983954Z",
          "iopub.status.idle": "2024-11-05T17:45:05.982677Z",
          "shell.execute_reply.started": "2024-11-05T17:43:54.983893Z",
          "shell.execute_reply": "2024-11-05T17:45:05.981351Z"
        },
        "id": "sFLw9iFukPtT"
      },
      "outputs": [],
      "execution_count": null
    },
    {
      "cell_type": "markdown",
      "source": [
        "## **12-Pipelines**"
      ],
      "metadata": {
        "id": "4UVmYoGIkPtU"
      }
    },
    {
      "cell_type": "code",
      "source": [
        "df = pd.read_csv('/kaggle/input/data-preparation-example/credit_risk_dataset.csv')\n",
        "df.info()"
      ],
      "metadata": {
        "trusted": true,
        "execution": {
          "iopub.status.busy": "2024-11-05T17:45:05.984248Z",
          "iopub.execute_input": "2024-11-05T17:45:05.984926Z",
          "iopub.status.idle": "2024-11-05T17:45:06.053556Z",
          "shell.execute_reply.started": "2024-11-05T17:45:05.984858Z",
          "shell.execute_reply": "2024-11-05T17:45:06.052103Z"
        },
        "id": "F63rYKBykPtU"
      },
      "outputs": [],
      "execution_count": null
    },
    {
      "cell_type": "code",
      "source": [
        "# Separate target from predictors\n",
        "y = df.loan_status\n",
        "X = df.drop(['loan_status'], axis=1)\n",
        "\n",
        "# Divide data into train and test subsets\n",
        "X_train, X_test, y_train, y_test = train_test_split(X, y, test_size=0.25)\n",
        "\n",
        "print(\"The size of the input train data is: {}\".format(X_train.shape))\n",
        "print(\"The size of the output train data is: {}\".format(y_train.shape))\n",
        "print(\"The size of the input test data is: {}\".format(X_test.shape))\n",
        "print(\"The size of the output test data is: {}\".format(y_test.shape))"
      ],
      "metadata": {
        "trusted": true,
        "execution": {
          "iopub.status.busy": "2024-11-05T17:45:06.060586Z",
          "iopub.execute_input": "2024-11-05T17:45:06.061215Z",
          "iopub.status.idle": "2024-11-05T17:45:06.086267Z",
          "shell.execute_reply.started": "2024-11-05T17:45:06.061163Z",
          "shell.execute_reply": "2024-11-05T17:45:06.08494Z"
        },
        "id": "fEsZ6VBekPtU"
      },
      "outputs": [],
      "execution_count": null
    },
    {
      "cell_type": "code",
      "source": [
        "# \"Cardinality\" means the number of unique values in a column\n",
        "# Select categorical columns with relatively low cardinality (convenient but arbitrary)\n",
        "categorical_cols = [cname for cname in X_train.columns if X_train[cname].dtype == \"object\"]\n",
        "\n",
        "# Select numerical columns\n",
        "numerical_cols = [cname for cname in X_train.columns if X_train[cname].dtype in ['int64', 'float64']]\n",
        "\n",
        "# Keep selected columns only\n",
        "my_cols = categorical_cols + numerical_cols\n",
        "X_train = X_train[my_cols].copy()\n",
        "X_test = X_test[my_cols].copy()\n",
        "\n",
        "print(\"Categorical variables:\")\n",
        "print(categorical_cols)\n",
        "print(\"numerical variables:\")\n",
        "print(numerical_cols)"
      ],
      "metadata": {
        "trusted": true,
        "execution": {
          "iopub.status.busy": "2024-11-05T17:45:06.08822Z",
          "iopub.execute_input": "2024-11-05T17:45:06.088642Z",
          "iopub.status.idle": "2024-11-05T17:45:06.105233Z",
          "shell.execute_reply.started": "2024-11-05T17:45:06.088602Z",
          "shell.execute_reply": "2024-11-05T17:45:06.103727Z"
        },
        "id": "WlRrhNPJkPtU"
      },
      "outputs": [],
      "execution_count": null
    },
    {
      "cell_type": "code",
      "source": [
        "from sklearn.compose import ColumnTransformer\n",
        "from sklearn.pipeline import Pipeline\n",
        "from sklearn.impute import SimpleImputer\n",
        "from sklearn.preprocessing import OneHotEncoder\n",
        "\n",
        "# Preprocessing for numerical data\n",
        "numerical_transformer = Pipeline(steps=[\n",
        "    ('imputer', SimpleImputer(strategy='constant')),\n",
        "    ('scaler', StandardScaler()),\n",
        "])\n",
        "\n",
        "# Preprocessing for categorical data\n",
        "categorical_transformer = Pipeline(steps=[\n",
        "    ('imputer', SimpleImputer(strategy='most_frequent')),\n",
        "    ('onehot', OneHotEncoder(handle_unknown='ignore')),\n",
        "])\n",
        "\n",
        "# Bundle preprocessing for numerical and categorical data\n",
        "preprocessor = ColumnTransformer(\n",
        "    transformers=[\n",
        "        ('num', numerical_transformer, numerical_cols),\n",
        "        ('cat', categorical_transformer, categorical_cols)\n",
        "    ])"
      ],
      "metadata": {
        "trusted": true,
        "execution": {
          "iopub.status.busy": "2024-11-05T17:45:06.106812Z",
          "iopub.execute_input": "2024-11-05T17:45:06.107267Z",
          "iopub.status.idle": "2024-11-05T17:45:06.126547Z",
          "shell.execute_reply.started": "2024-11-05T17:45:06.107227Z",
          "shell.execute_reply": "2024-11-05T17:45:06.125192Z"
        },
        "id": "A4urYYXzkPtU"
      },
      "outputs": [],
      "execution_count": null
    },
    {
      "cell_type": "code",
      "source": [
        "# Voting Classifier\n",
        "model = VotingClassifier(\n",
        "    estimators=[(\"Logistic Regression\", LR), (\"Decision Tree\", Tree), (\"Random Forest\", RF),\n",
        "               (\"Support Vector Machine\",SVM), (\"k-nearest neighbor\",KNN), (\"Gradient Boosting\",GB)],\n",
        "    voting='hard',\n",
        ")\n",
        "\n",
        "# Bundle preprocessing and modeling code in a pipeline\n",
        "my_pipeline = Pipeline(steps=[('preprocessor', preprocessor),\n",
        "                              ('model', model)\n",
        "                             ])\n",
        "\n",
        "# Preprocessing of training data, fit model\n",
        "my_pipeline.fit(X_train, y_train)\n",
        "\n",
        "# Preprocessing of validation data, get predictions\n",
        "prediction = my_pipeline.predict(X_test)\n",
        "\n",
        "#Plot Result\n",
        "cm = confusion_matrix(prediction,y_test)\n",
        "#print(cm)\n",
        "plot_confusion_matrix(cm,\n",
        "                          target_names=['1', '0'],\n",
        "                          title='Random Forest',\n",
        "                          cmap=None,\n",
        "                          normalize=True)\n",
        "sk_report = classification_report(\n",
        "    digits=2,\n",
        "    y_true=prediction,\n",
        "    y_pred=y_test)\n",
        "print(sk_report)"
      ],
      "metadata": {
        "trusted": true,
        "execution": {
          "iopub.status.busy": "2024-11-05T17:45:06.128383Z",
          "iopub.execute_input": "2024-11-05T17:45:06.129308Z",
          "iopub.status.idle": "2024-11-05T17:45:33.489606Z",
          "shell.execute_reply.started": "2024-11-05T17:45:06.129262Z",
          "shell.execute_reply": "2024-11-05T17:45:33.487949Z"
        },
        "id": "LdTzZCDZkPtU"
      },
      "outputs": [],
      "execution_count": null
    }
  ]
}