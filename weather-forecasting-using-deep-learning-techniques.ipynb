{
 "cells": [
  {
   "cell_type": "code",
   "execution_count": 1,
   "id": "9005bd26",
   "metadata": {
    "_cell_guid": "b1076dfc-b9ad-4769-8c92-a6c4dae69d19",
    "_uuid": "8f2839f25d086af736a60e9eeb907d3b93b6e0e5",
    "execution": {
     "iopub.execute_input": "2024-11-16T19:28:33.207598Z",
     "iopub.status.busy": "2024-11-16T19:28:33.207148Z",
     "iopub.status.idle": "2024-11-16T19:28:34.225109Z",
     "shell.execute_reply": "2024-11-16T19:28:34.223633Z"
    },
    "papermill": {
     "duration": 1.030691,
     "end_time": "2024-11-16T19:28:34.228207",
     "exception": false,
     "start_time": "2024-11-16T19:28:33.197516",
     "status": "completed"
    },
    "tags": []
   },
   "outputs": [
    {
     "name": "stdout",
     "output_type": "stream",
     "text": [
      "/kaggle/input/jena-climate-2009-2016/jena_climate_2009_2016.csv\n"
     ]
    }
   ],
   "source": [
    "# This Python 3 environment comes with many helpful analytics libraries installed\n",
    "# It is defined by the kaggle/python Docker image: https://github.com/kaggle/docker-python\n",
    "# For example, here's several helpful packages to load\n",
    "\n",
    "import numpy as np # linear algebra\n",
    "import pandas as pd # data processing, CSV file I/O (e.g. pd.read_csv)\n",
    "\n",
    "# Input data files are available in the read-only \"../input/\" directory\n",
    "# For example, running this (by clicking run or pressing Shift+Enter) will list all files under the input directory\n",
    "\n",
    "import os\n",
    "for dirname, _, filenames in os.walk('/kaggle/input'):\n",
    "    for filename in filenames:\n",
    "        print(os.path.join(dirname, filename))\n",
    "\n",
    "# You can write up to 20GB to the current directory (/kaggle/working/) that gets preserved as output when you create a version using \"Save & Run All\" \n",
    "# You can also write temporary files to /kaggle/temp/, but they won't be saved outside of the current session"
   ]
  },
  {
   "cell_type": "code",
   "execution_count": 2,
   "id": "a243ae8a",
   "metadata": {
    "execution": {
     "iopub.execute_input": "2024-11-16T19:28:34.244261Z",
     "iopub.status.busy": "2024-11-16T19:28:34.243689Z",
     "iopub.status.idle": "2024-11-16T19:28:50.913537Z",
     "shell.execute_reply": "2024-11-16T19:28:50.912207Z"
    },
    "papermill": {
     "duration": 16.680429,
     "end_time": "2024-11-16T19:28:50.916215",
     "exception": false,
     "start_time": "2024-11-16T19:28:34.235786",
     "status": "completed"
    },
    "tags": []
   },
   "outputs": [],
   "source": [
    "import os\n",
    "import numpy as np\n",
    "import pandas as pd\n",
    "import matplotlib.pyplot as plt\n",
    "import seaborn as sns\n",
    "import tensorflow as tf\n",
    "import random\n",
    "\n",
    "import warnings \n",
    "warnings.filterwarnings('ignore')"
   ]
  },
  {
   "cell_type": "markdown",
   "id": "5a8f4638",
   "metadata": {
    "papermill": {
     "duration": 0.00573,
     "end_time": "2024-11-16T19:28:50.928042",
     "exception": false,
     "start_time": "2024-11-16T19:28:50.922312",
     "status": "completed"
    },
    "tags": []
   },
   "source": [
    "# **1-Load Data**"
   ]
  },
  {
   "cell_type": "code",
   "execution_count": 3,
   "id": "beb289de",
   "metadata": {
    "execution": {
     "iopub.execute_input": "2024-11-16T19:28:50.942670Z",
     "iopub.status.busy": "2024-11-16T19:28:50.941954Z",
     "iopub.status.idle": "2024-11-16T19:28:51.451964Z",
     "shell.execute_reply": "2024-11-16T19:28:51.450133Z"
    },
    "papermill": {
     "duration": 0.520123,
     "end_time": "2024-11-16T19:28:51.454769",
     "exception": false,
     "start_time": "2024-11-16T19:28:50.934646",
     "status": "completed"
    },
    "tags": []
   },
   "outputs": [
    {
     "name": "stdout",
     "output_type": "stream",
     "text": [
      "['\"Date Time\"', '\"p (mbar)\"', '\"T (degC)\"', '\"Tpot (K)\"', '\"Tdew (degC)\"', '\"rh (%)\"', '\"VPmax (mbar)\"', '\"VPact (mbar)\"', '\"VPdef (mbar)\"', '\"sh (g/kg)\"', '\"H2OC (mmol/mol)\"', '\"rho (g/m**3)\"', '\"wv (m/s)\"', '\"max. wv (m/s)\"', '\"wd (deg)\"']\n",
      "420551\n"
     ]
    }
   ],
   "source": [
    "fname = os.path.join('/kaggle/input/jena-climate-2009-2016/jena_climate_2009_2016.csv')\n",
    "\n",
    "with open(fname) as f:\n",
    "    data = f.read()\n",
    "\n",
    "lines = data.split(\"\\n\")\n",
    "header = lines[0].split(\",\")\n",
    "lines = lines[1:]\n",
    "print(header)\n",
    "print(len(lines))"
   ]
  },
  {
   "cell_type": "markdown",
   "id": "298d8e62",
   "metadata": {
    "papermill": {
     "duration": 0.006033,
     "end_time": "2024-11-16T19:28:51.467091",
     "exception": false,
     "start_time": "2024-11-16T19:28:51.461058",
     "status": "completed"
    },
    "tags": []
   },
   "source": [
    "<div style=\"background-color: green; padding: 20px; border-radius: 25px; \">\n",
    "<font color='white' size=\"5px\">\n",
    "Parsing the data\n",
    "    </font>\n",
    "</div>"
   ]
  },
  {
   "cell_type": "code",
   "execution_count": 4,
   "id": "38e1f7f3",
   "metadata": {
    "execution": {
     "iopub.execute_input": "2024-11-16T19:28:51.482482Z",
     "iopub.status.busy": "2024-11-16T19:28:51.482042Z",
     "iopub.status.idle": "2024-11-16T19:28:53.693931Z",
     "shell.execute_reply": "2024-11-16T19:28:53.692774Z"
    },
    "papermill": {
     "duration": 2.223611,
     "end_time": "2024-11-16T19:28:53.696784",
     "exception": false,
     "start_time": "2024-11-16T19:28:51.473173",
     "status": "completed"
    },
    "tags": []
   },
   "outputs": [],
   "source": [
    "import numpy as np\n",
    "temperature = np.zeros((len(lines),))\n",
    "raw_data = np.zeros((len(lines), len(header) - 1))\n",
    "for i, line in enumerate(lines):\n",
    "    values = [float(x) for x in line.split(\",\")[1:]]\n",
    "    temperature[i] = values[1]\n",
    "    raw_data[i, :] = values[:]"
   ]
  },
  {
   "cell_type": "code",
   "execution_count": 5,
   "id": "6b83f1b7",
   "metadata": {
    "execution": {
     "iopub.execute_input": "2024-11-16T19:28:53.711088Z",
     "iopub.status.busy": "2024-11-16T19:28:53.710669Z",
     "iopub.status.idle": "2024-11-16T19:28:54.266941Z",
     "shell.execute_reply": "2024-11-16T19:28:54.265552Z"
    },
    "papermill": {
     "duration": 0.56651,
     "end_time": "2024-11-16T19:28:54.269756",
     "exception": false,
     "start_time": "2024-11-16T19:28:53.703246",
     "status": "completed"
    },
    "tags": []
   },
   "outputs": [
    {
     "data": {
      "image/png": "[encoded data removed]",
      "text/plain": [
       "<Figure size 640x480 with 1 Axes>"
      ]
     },
     "metadata": {},
     "output_type": "display_data"
    }
   ],
   "source": [
    "plt.plot(range(len(temperature)), temperature);"
   ]
  },
  {
   "cell_type": "code",
   "execution_count": 6,
   "id": "b0e8be4c",
   "metadata": {
    "execution": {
     "iopub.execute_input": "2024-11-16T19:28:54.295339Z",
     "iopub.status.busy": "2024-11-16T19:28:54.294808Z",
     "iopub.status.idle": "2024-11-16T19:28:54.540459Z",
     "shell.execute_reply": "2024-11-16T19:28:54.539164Z"
    },
    "papermill": {
     "duration": 0.256397,
     "end_time": "2024-11-16T19:28:54.542798",
     "exception": false,
     "start_time": "2024-11-16T19:28:54.286401",
     "status": "completed"
    },
    "tags": []
   },
   "outputs": [
    {
     "data": {
      "image/png": "[encoded data removed]",
      "text/plain": [
       "<Figure size 640x480 with 1 Axes>"
      ]
     },
     "metadata": {},
     "output_type": "display_data"
    }
   ],
   "source": [
    "plt.plot(range(1440), temperature[:1440]);"
   ]
  },
  {
   "cell_type": "code",
   "execution_count": 7,
   "id": "e2c1815f",
   "metadata": {
    "execution": {
     "iopub.execute_input": "2024-11-16T19:28:54.559804Z",
     "iopub.status.busy": "2024-11-16T19:28:54.558890Z",
     "iopub.status.idle": "2024-11-16T19:28:54.565980Z",
     "shell.execute_reply": "2024-11-16T19:28:54.564835Z"
    },
    "papermill": {
     "duration": 0.018449,
     "end_time": "2024-11-16T19:28:54.568413",
     "exception": false,
     "start_time": "2024-11-16T19:28:54.549964",
     "status": "completed"
    },
    "tags": []
   },
   "outputs": [
    {
     "name": "stdout",
     "output_type": "stream",
     "text": [
      "num_train_samples: 210275\n",
      "num_val_samples: 105137\n",
      "num_test_samples: 105139\n"
     ]
    }
   ],
   "source": [
    "num_train_samples = int(0.5 * len(raw_data))\n",
    "num_val_samples = int(0.25 * len(raw_data))\n",
    "num_test_samples = len(raw_data) - num_train_samples - num_val_samples\n",
    "print(\"num_train_samples:\", num_train_samples)\n",
    "print(\"num_val_samples:\", num_val_samples)\n",
    "print(\"num_test_samples:\", num_test_samples)"
   ]
  },
  {
   "cell_type": "markdown",
   "id": "cdf3807e",
   "metadata": {
    "papermill": {
     "duration": 0.006836,
     "end_time": "2024-11-16T19:28:54.582718",
     "exception": false,
     "start_time": "2024-11-16T19:28:54.575882",
     "status": "completed"
    },
    "tags": []
   },
   "source": [
    "# **2-Preparing the Data**"
   ]
  },
  {
   "cell_type": "markdown",
   "id": "1627a067",
   "metadata": {
    "papermill": {
     "duration": 0.006721,
     "end_time": "2024-11-16T19:28:54.596566",
     "exception": false,
     "start_time": "2024-11-16T19:28:54.589845",
     "status": "completed"
    },
    "tags": []
   },
   "source": [
    "<div style=\"background-color: green; padding: 20px; border-radius: 25px; \">\n",
    "<font color='white' size=\"5px\">\n",
    "Normalizing the data\n",
    "    </font>\n",
    "</div>"
   ]
  },
  {
   "cell_type": "code",
   "execution_count": 8,
   "id": "f102ac9f",
   "metadata": {
    "execution": {
     "iopub.execute_input": "2024-11-16T19:28:54.612873Z",
     "iopub.status.busy": "2024-11-16T19:28:54.612474Z",
     "iopub.status.idle": "2024-11-16T19:28:54.674633Z",
     "shell.execute_reply": "2024-11-16T19:28:54.673547Z"
    },
    "papermill": {
     "duration": 0.07379,
     "end_time": "2024-11-16T19:28:54.677390",
     "exception": false,
     "start_time": "2024-11-16T19:28:54.603600",
     "status": "completed"
    },
    "tags": []
   },
   "outputs": [],
   "source": [
    "mean = raw_data[:num_train_samples].mean(axis=0)\n",
    "raw_data -= mean\n",
    "std = raw_data[:num_train_samples].std(axis=0)\n",
    "raw_data /= std"
   ]
  },
  {
   "cell_type": "code",
   "execution_count": 9,
   "id": "ebd3b246",
   "metadata": {
    "execution": {
     "iopub.execute_input": "2024-11-16T19:28:54.694361Z",
     "iopub.status.busy": "2024-11-16T19:28:54.693330Z",
     "iopub.status.idle": "2024-11-16T19:28:55.014195Z",
     "shell.execute_reply": "2024-11-16T19:28:55.013068Z"
    },
    "papermill": {
     "duration": 0.332237,
     "end_time": "2024-11-16T19:28:55.016793",
     "exception": false,
     "start_time": "2024-11-16T19:28:54.684556",
     "status": "completed"
    },
    "tags": []
   },
   "outputs": [
    {
     "name": "stdout",
     "output_type": "stream",
     "text": [
      "[0, 1, 2] 3\n",
      "[1, 2, 3] 4\n",
      "[2, 3, 4] 5\n",
      "[3, 4, 5] 6\n",
      "[4, 5, 6] 7\n"
     ]
    }
   ],
   "source": [
    "int_sequence = np.arange(10)\n",
    "dummy_dataset = tf.keras.utils.timeseries_dataset_from_array(\n",
    "    data=int_sequence[:-3],\n",
    "    targets=int_sequence[3:],\n",
    "    sequence_length=3,\n",
    "    batch_size=2,\n",
    ")\n",
    "\n",
    "for inputs, targets in dummy_dataset:\n",
    "    for i in range(inputs.shape[0]):\n",
    "        print([int(x) for x in inputs[i]], int(targets[i]))"
   ]
  },
  {
   "cell_type": "markdown",
   "id": "5e5747e8",
   "metadata": {
    "papermill": {
     "duration": 0.007473,
     "end_time": "2024-11-16T19:28:55.031466",
     "exception": false,
     "start_time": "2024-11-16T19:28:55.023993",
     "status": "completed"
    },
    "tags": []
   },
   "source": [
    "<div style=\"background-color: green; padding: 20px; border-radius: 25px; \">\n",
    "<font color='white' size=\"5px\">\n",
    "Instantiating datasets for training, validation, and testing\n",
    "    </font>\n",
    "</div>"
   ]
  },
  {
   "cell_type": "code",
   "execution_count": 10,
   "id": "c2f84155",
   "metadata": {
    "execution": {
     "iopub.execute_input": "2024-11-16T19:28:55.047935Z",
     "iopub.status.busy": "2024-11-16T19:28:55.047517Z",
     "iopub.status.idle": "2024-11-16T19:28:55.383741Z",
     "shell.execute_reply": "2024-11-16T19:28:55.382547Z"
    },
    "papermill": {
     "duration": 0.347683,
     "end_time": "2024-11-16T19:28:55.386420",
     "exception": false,
     "start_time": "2024-11-16T19:28:55.038737",
     "status": "completed"
    },
    "tags": []
   },
   "outputs": [],
   "source": [
    "sampling_rate = 6\n",
    "sequence_length = 120\n",
    "delay = sampling_rate * (sequence_length + 24 - 1)\n",
    "batch_size = 256\n",
    "\n",
    "train_dataset = tf.keras.utils.timeseries_dataset_from_array(\n",
    "    raw_data[:-delay],\n",
    "    targets=temperature[delay:],\n",
    "    sampling_rate=sampling_rate,\n",
    "    sequence_length=sequence_length,\n",
    "    shuffle=True,\n",
    "    batch_size=batch_size,\n",
    "    start_index=0,\n",
    "    end_index=num_train_samples)\n",
    "\n",
    "val_dataset = tf.keras.utils.timeseries_dataset_from_array(\n",
    "    raw_data[:-delay],\n",
    "    targets=temperature[delay:],\n",
    "    sampling_rate=sampling_rate,\n",
    "    sequence_length=sequence_length,\n",
    "    shuffle=True,\n",
    "    batch_size=batch_size,\n",
    "    start_index=num_train_samples,\n",
    "    end_index=num_train_samples + num_val_samples)\n",
    "\n",
    "test_dataset = tf.keras.utils.timeseries_dataset_from_array(\n",
    "    raw_data[:-delay],\n",
    "    targets=temperature[delay:],\n",
    "    sampling_rate=sampling_rate,\n",
    "    sequence_length=sequence_length,\n",
    "    shuffle=True,\n",
    "    batch_size=batch_size,\n",
    "    start_index=num_train_samples + num_val_samples)"
   ]
  },
  {
   "cell_type": "code",
   "execution_count": 11,
   "id": "b7d03dac",
   "metadata": {
    "execution": {
     "iopub.execute_input": "2024-11-16T19:28:55.403640Z",
     "iopub.status.busy": "2024-11-16T19:28:55.403173Z",
     "iopub.status.idle": "2024-11-16T19:28:55.671409Z",
     "shell.execute_reply": "2024-11-16T19:28:55.670149Z"
    },
    "papermill": {
     "duration": 0.279827,
     "end_time": "2024-11-16T19:28:55.673971",
     "exception": false,
     "start_time": "2024-11-16T19:28:55.394144",
     "status": "completed"
    },
    "tags": []
   },
   "outputs": [
    {
     "name": "stdout",
     "output_type": "stream",
     "text": [
      "samples shape: (256, 120, 14)\n",
      "targets shape: (256,)\n"
     ]
    }
   ],
   "source": [
    "for samples, targets in train_dataset:\n",
    "    print(\"samples shape:\", samples.shape)\n",
    "    print(\"targets shape:\", targets.shape)\n",
    "    break"
   ]
  },
  {
   "cell_type": "markdown",
   "id": "96813e06",
   "metadata": {
    "papermill": {
     "duration": 0.006826,
     "end_time": "2024-11-16T19:28:55.688042",
     "exception": false,
     "start_time": "2024-11-16T19:28:55.681216",
     "status": "completed"
    },
    "tags": []
   },
   "source": [
    "# **3- 1D convolutional model**"
   ]
  },
  {
   "cell_type": "code",
   "execution_count": 12,
   "id": "cda84150",
   "metadata": {
    "execution": {
     "iopub.execute_input": "2024-11-16T19:28:55.704140Z",
     "iopub.status.busy": "2024-11-16T19:28:55.703721Z",
     "iopub.status.idle": "2024-11-16T19:35:48.511491Z",
     "shell.execute_reply": "2024-11-16T19:35:48.510128Z"
    },
    "papermill": {
     "duration": 412.818964,
     "end_time": "2024-11-16T19:35:48.514325",
     "exception": false,
     "start_time": "2024-11-16T19:28:55.695361",
     "status": "completed"
    },
    "tags": []
   },
   "outputs": [
    {
     "name": "stdout",
     "output_type": "stream",
     "text": [
      "Epoch 1/10\n",
      "\u001b[1m819/819\u001b[0m \u001b[32m━━━━━━━━━━━━━━━━━━━━\u001b[0m\u001b[37m\u001b[0m \u001b[1m42s\u001b[0m 49ms/step - loss: 32.3676 - mae: 4.3706 - val_loss: 15.1042 - val_mae: 3.1028\n",
      "Epoch 2/10\n",
      "\u001b[1m819/819\u001b[0m \u001b[32m━━━━━━━━━━━━━━━━━━━━\u001b[0m\u001b[37m\u001b[0m \u001b[1m41s\u001b[0m 49ms/step - loss: 18.0702 - mae: 3.3427 - val_loss: 17.3684 - val_mae: 3.2829\n",
      "Epoch 3/10\n",
      "\u001b[1m819/819\u001b[0m \u001b[32m━━━━━━━━━━━━━━━━━━━━\u001b[0m\u001b[37m\u001b[0m \u001b[1m41s\u001b[0m 49ms/step - loss: 15.9720 - mae: 3.1519 - val_loss: 14.1959 - val_mae: 2.9772\n",
      "Epoch 4/10\n",
      "\u001b[1m819/819\u001b[0m \u001b[32m━━━━━━━━━━━━━━━━━━━━\u001b[0m\u001b[37m\u001b[0m \u001b[1m40s\u001b[0m 49ms/step - loss: 14.6496 - mae: 3.0257 - val_loss: 13.8066 - val_mae: 2.9269\n",
      "Epoch 5/10\n",
      "\u001b[1m819/819\u001b[0m \u001b[32m━━━━━━━━━━━━━━━━━━━━\u001b[0m\u001b[37m\u001b[0m \u001b[1m40s\u001b[0m 49ms/step - loss: 13.7001 - mae: 2.9230 - val_loss: 14.9158 - val_mae: 3.0376\n",
      "Epoch 6/10\n",
      "\u001b[1m819/819\u001b[0m \u001b[32m━━━━━━━━━━━━━━━━━━━━\u001b[0m\u001b[37m\u001b[0m \u001b[1m39s\u001b[0m 48ms/step - loss: 13.0338 - mae: 2.8499 - val_loss: 14.7407 - val_mae: 3.0380\n",
      "Epoch 7/10\n",
      "\u001b[1m819/819\u001b[0m \u001b[32m━━━━━━━━━━━━━━━━━━━━\u001b[0m\u001b[37m\u001b[0m \u001b[1m40s\u001b[0m 49ms/step - loss: 12.4752 - mae: 2.7896 - val_loss: 14.8560 - val_mae: 3.0369\n",
      "Epoch 8/10\n",
      "\u001b[1m819/819\u001b[0m \u001b[32m━━━━━━━━━━━━━━━━━━━━\u001b[0m\u001b[37m\u001b[0m \u001b[1m39s\u001b[0m 48ms/step - loss: 11.9892 - mae: 2.7289 - val_loss: 14.4454 - val_mae: 2.9948\n",
      "Epoch 9/10\n",
      "\u001b[1m819/819\u001b[0m \u001b[32m━━━━━━━━━━━━━━━━━━━━\u001b[0m\u001b[37m\u001b[0m \u001b[1m40s\u001b[0m 49ms/step - loss: 11.6550 - mae: 2.6915 - val_loss: 14.1973 - val_mae: 2.9663\n",
      "Epoch 10/10\n",
      "\u001b[1m819/819\u001b[0m \u001b[32m━━━━━━━━━━━━━━━━━━━━\u001b[0m\u001b[37m\u001b[0m \u001b[1m40s\u001b[0m 48ms/step - loss: 11.3523 - mae: 2.6538 - val_loss: 15.1986 - val_mae: 3.0790\n",
      "\u001b[1m405/405\u001b[0m \u001b[32m━━━━━━━━━━━━━━━━━━━━\u001b[0m\u001b[37m\u001b[0m \u001b[1m11s\u001b[0m 27ms/step - loss: 79191.0703 - mae: 21.4196\n",
      "Test MAE: 20.66\n"
     ]
    }
   ],
   "source": [
    "inputs = tf.keras.Input(shape=(sequence_length, raw_data.shape[-1]))\n",
    "x = tf.keras.layers.Conv1D(8, 24, activation=\"relu\")(inputs)\n",
    "x = tf.keras.layers.MaxPooling1D(2)(x)\n",
    "x = tf.keras.layers.Conv1D(8, 12, activation=\"relu\")(x)\n",
    "x = tf.keras.layers.MaxPooling1D(2)(x)\n",
    "x = tf.keras.layers.Conv1D(8, 6, activation=\"relu\")(x)\n",
    "x = tf.keras.layers.GlobalAveragePooling1D()(x)\n",
    "outputs = tf.keras.layers.Dense(1)(x)\n",
    "model = tf.keras.Model(inputs, outputs)\n",
    "\n",
    "model.compile(optimizer=\"rmsprop\", loss=\"mse\", metrics=[\"mae\"])\n",
    "history = model.fit(train_dataset,\n",
    "                    epochs=10,\n",
    "                    validation_data=val_dataset)\n",
    "\n",
    "print(f\"Test MAE: {model.evaluate(test_dataset)[1]:.2f}\")"
   ]
  },
  {
   "cell_type": "code",
   "execution_count": 13,
   "id": "911439aa",
   "metadata": {
    "execution": {
     "iopub.execute_input": "2024-11-16T19:35:49.113209Z",
     "iopub.status.busy": "2024-11-16T19:35:49.112791Z",
     "iopub.status.idle": "2024-11-16T19:35:49.413004Z",
     "shell.execute_reply": "2024-11-16T19:35:49.410376Z"
    },
    "papermill": {
     "duration": 0.607718,
     "end_time": "2024-11-16T19:35:49.416639",
     "exception": false,
     "start_time": "2024-11-16T19:35:48.808921",
     "status": "completed"
    },
    "tags": []
   },
   "outputs": [
    {
     "data": {
      "image/png": "[encoded data removed]",
      "text/plain": [
       "<Figure size 640x480 with 1 Axes>"
      ]
     },
     "metadata": {},
     "output_type": "display_data"
    }
   ],
   "source": [
    "loss = history.history[\"mae\"]\n",
    "val_loss = history.history[\"val_mae\"]\n",
    "epochs = range(1, len(loss) + 1)\n",
    "plt.figure()\n",
    "plt.plot(epochs, loss, \"bo\", label=\"Training MAE\")\n",
    "plt.plot(epochs, val_loss, \"b\", label=\"Validation MAE\")\n",
    "plt.title(\"Training and validation MAE\")\n",
    "plt.legend()\n",
    "plt.show()"
   ]
  },
  {
   "cell_type": "markdown",
   "id": "f911a4b7",
   "metadata": {
    "papermill": {
     "duration": 0.349282,
     "end_time": "2024-11-16T19:35:50.077134",
     "exception": false,
     "start_time": "2024-11-16T19:35:49.727852",
     "status": "completed"
    },
    "tags": []
   },
   "source": [
    "# **4- A simple LSTM-based model**"
   ]
  },
  {
   "cell_type": "code",
   "execution_count": 14,
   "id": "ce2327aa",
   "metadata": {
    "execution": {
     "iopub.execute_input": "2024-11-16T19:35:50.672000Z",
     "iopub.status.busy": "2024-11-16T19:35:50.671594Z",
     "iopub.status.idle": "2024-11-16T19:46:43.948784Z",
     "shell.execute_reply": "2024-11-16T19:46:43.947658Z"
    },
    "papermill": {
     "duration": 653.572965,
     "end_time": "2024-11-16T19:46:43.951612",
     "exception": false,
     "start_time": "2024-11-16T19:35:50.378647",
     "status": "completed"
    },
    "tags": []
   },
   "outputs": [
    {
     "name": "stdout",
     "output_type": "stream",
     "text": [
      "Epoch 1/10\n",
      "\u001b[1m819/819\u001b[0m \u001b[32m━━━━━━━━━━━━━━━━━━━━\u001b[0m\u001b[37m\u001b[0m \u001b[1m65s\u001b[0m 78ms/step - loss: 78.3910 - mae: 6.7821 - val_loss: 13.3650 - val_mae: 2.7660\n",
      "Epoch 2/10\n",
      "\u001b[1m819/819\u001b[0m \u001b[32m━━━━━━━━━━━━━━━━━━━━\u001b[0m\u001b[37m\u001b[0m \u001b[1m64s\u001b[0m 78ms/step - loss: 12.1933 - mae: 2.6906 - val_loss: 9.4824 - val_mae: 2.3883\n",
      "Epoch 3/10\n",
      "\u001b[1m819/819\u001b[0m \u001b[32m━━━━━━━━━━━━━━━━━━━━\u001b[0m\u001b[37m\u001b[0m \u001b[1m64s\u001b[0m 78ms/step - loss: 9.7833 - mae: 2.4302 - val_loss: 9.0801 - val_mae: 2.3264\n",
      "Epoch 4/10\n",
      "\u001b[1m819/819\u001b[0m \u001b[32m━━━━━━━━━━━━━━━━━━━━\u001b[0m\u001b[37m\u001b[0m \u001b[1m65s\u001b[0m 79ms/step - loss: 9.0254 - mae: 2.3393 - val_loss: 9.2117 - val_mae: 2.3606\n",
      "Epoch 5/10\n",
      "\u001b[1m819/819\u001b[0m \u001b[32m━━━━━━━━━━━━━━━━━━━━\u001b[0m\u001b[37m\u001b[0m \u001b[1m63s\u001b[0m 77ms/step - loss: 8.5146 - mae: 2.2757 - val_loss: 9.5279 - val_mae: 2.3954\n",
      "Epoch 6/10\n",
      "\u001b[1m819/819\u001b[0m \u001b[32m━━━━━━━━━━━━━━━━━━━━\u001b[0m\u001b[37m\u001b[0m \u001b[1m64s\u001b[0m 78ms/step - loss: 8.1700 - mae: 2.2286 - val_loss: 9.3563 - val_mae: 2.3817\n",
      "Epoch 7/10\n",
      "\u001b[1m819/819\u001b[0m \u001b[32m━━━━━━━━━━━━━━━━━━━━\u001b[0m\u001b[37m\u001b[0m \u001b[1m63s\u001b[0m 77ms/step - loss: 7.9003 - mae: 2.1898 - val_loss: 9.4987 - val_mae: 2.3938\n",
      "Epoch 8/10\n",
      "\u001b[1m819/819\u001b[0m \u001b[32m━━━━━━━━━━━━━━━━━━━━\u001b[0m\u001b[37m\u001b[0m \u001b[1m63s\u001b[0m 76ms/step - loss: 7.6682 - mae: 2.1570 - val_loss: 9.5721 - val_mae: 2.4031\n",
      "Epoch 9/10\n",
      "\u001b[1m819/819\u001b[0m \u001b[32m━━━━━━━━━━━━━━━━━━━━\u001b[0m\u001b[37m\u001b[0m \u001b[1m65s\u001b[0m 79ms/step - loss: 7.4691 - mae: 2.1271 - val_loss: 9.7887 - val_mae: 2.4239\n",
      "Epoch 10/10\n",
      "\u001b[1m819/819\u001b[0m \u001b[32m━━━━━━━━━━━━━━━━━━━━\u001b[0m\u001b[37m\u001b[0m \u001b[1m63s\u001b[0m 77ms/step - loss: 7.3075 - mae: 2.1068 - val_loss: 9.6628 - val_mae: 2.4117\n",
      "\u001b[1m405/405\u001b[0m \u001b[32m━━━━━━━━━━━━━━━━━━━━\u001b[0m\u001b[37m\u001b[0m \u001b[1m14s\u001b[0m 34ms/step - loss: 12.1465 - mae: 2.6646\n",
      "Test MAE: 2.67\n"
     ]
    }
   ],
   "source": [
    "inputs = tf.keras.Input(shape=(sequence_length, raw_data.shape[-1]))\n",
    "x = tf.keras.layers.LSTM(16)(inputs)\n",
    "outputs = tf.keras.layers.Dense(1)(x)\n",
    "model = tf.keras.Model(inputs, outputs)\n",
    "\n",
    "model.compile(optimizer=\"rmsprop\", loss=\"mse\", metrics=[\"mae\"])\n",
    "history = model.fit(train_dataset,\n",
    "                    epochs=10,\n",
    "                    validation_data=val_dataset)\n",
    "\n",
    "print(f\"Test MAE: {model.evaluate(test_dataset)[1]:.2f}\")"
   ]
  },
  {
   "cell_type": "code",
   "execution_count": 15,
   "id": "3274f198",
   "metadata": {
    "execution": {
     "iopub.execute_input": "2024-11-16T19:46:45.761046Z",
     "iopub.status.busy": "2024-11-16T19:46:45.760612Z",
     "iopub.status.idle": "2024-11-16T19:46:45.999025Z",
     "shell.execute_reply": "2024-11-16T19:46:45.997835Z"
    },
    "papermill": {
     "duration": 1.165068,
     "end_time": "2024-11-16T19:46:46.001643",
     "exception": false,
     "start_time": "2024-11-16T19:46:44.836575",
     "status": "completed"
    },
    "tags": []
   },
   "outputs": [
    {
     "data": {
      "image/png": "[encoded data removed]",
      "text/plain": [
       "<Figure size 640x480 with 1 Axes>"
      ]
     },
     "metadata": {},
     "output_type": "display_data"
    }
   ],
   "source": [
    "loss = history.history[\"mae\"]\n",
    "val_loss = history.history[\"val_mae\"]\n",
    "epochs = range(1, len(loss) + 1)\n",
    "plt.figure()\n",
    "plt.plot(epochs, loss, \"bo\", label=\"Training MAE\")\n",
    "plt.plot(epochs, val_loss, \"b\", label=\"Validation MAE\")\n",
    "plt.title(\"Training and validation MAE\")\n",
    "plt.legend()\n",
    "plt.show()"
   ]
  },
  {
   "cell_type": "markdown",
   "id": "ef7d6bd7",
   "metadata": {
    "papermill": {
     "duration": 0.876806,
     "end_time": "2024-11-16T19:46:47.797455",
     "exception": false,
     "start_time": "2024-11-16T19:46:46.920649",
     "status": "completed"
    },
    "tags": []
   },
   "source": [
    "# **5- bidirectional RNNs**"
   ]
  },
  {
   "cell_type": "code",
   "execution_count": 16,
   "id": "dc5c1204",
   "metadata": {
    "execution": {
     "iopub.execute_input": "2024-11-16T19:46:49.572992Z",
     "iopub.status.busy": "2024-11-16T19:46:49.572600Z",
     "iopub.status.idle": "2024-11-16T19:59:50.740352Z",
     "shell.execute_reply": "2024-11-16T19:59:50.738936Z"
    },
    "papermill": {
     "duration": 782.089788,
     "end_time": "2024-11-16T19:59:50.742854",
     "exception": false,
     "start_time": "2024-11-16T19:46:48.653066",
     "status": "completed"
    },
    "tags": []
   },
   "outputs": [
    {
     "name": "stdout",
     "output_type": "stream",
     "text": [
      "Epoch 1/10\n",
      "\u001b[1m819/819\u001b[0m \u001b[32m━━━━━━━━━━━━━━━━━━━━\u001b[0m\u001b[37m\u001b[0m \u001b[1m76s\u001b[0m 89ms/step - loss: 53.3462 - mae: 5.3832 - val_loss: 10.6839 - val_mae: 2.5295\n",
      "Epoch 2/10\n",
      "\u001b[1m819/819\u001b[0m \u001b[32m━━━━━━━━━━━━━━━━━━━━\u001b[0m\u001b[37m\u001b[0m \u001b[1m81s\u001b[0m 88ms/step - loss: 9.8970 - mae: 2.4620 - val_loss: 9.6040 - val_mae: 2.4062\n",
      "Epoch 3/10\n",
      "\u001b[1m819/819\u001b[0m \u001b[32m━━━━━━━━━━━━━━━━━━━━\u001b[0m\u001b[37m\u001b[0m \u001b[1m75s\u001b[0m 91ms/step - loss: 8.6972 - mae: 2.2967 - val_loss: 10.1693 - val_mae: 2.4787\n",
      "Epoch 4/10\n",
      "\u001b[1m819/819\u001b[0m \u001b[32m━━━━━━━━━━━━━━━━━━━━\u001b[0m\u001b[37m\u001b[0m \u001b[1m75s\u001b[0m 91ms/step - loss: 8.1546 - mae: 2.2238 - val_loss: 10.0705 - val_mae: 2.4572\n",
      "Epoch 5/10\n",
      "\u001b[1m819/819\u001b[0m \u001b[32m━━━━━━━━━━━━━━━━━━━━\u001b[0m\u001b[37m\u001b[0m \u001b[1m73s\u001b[0m 89ms/step - loss: 7.7669 - mae: 2.1709 - val_loss: 10.2644 - val_mae: 2.4812\n",
      "Epoch 6/10\n",
      "\u001b[1m819/819\u001b[0m \u001b[32m━━━━━━━━━━━━━━━━━━━━\u001b[0m\u001b[37m\u001b[0m \u001b[1m73s\u001b[0m 89ms/step - loss: 7.4388 - mae: 2.1247 - val_loss: 10.2220 - val_mae: 2.4709\n",
      "Epoch 7/10\n",
      "\u001b[1m819/819\u001b[0m \u001b[32m━━━━━━━━━━━━━━━━━━━━\u001b[0m\u001b[37m\u001b[0m \u001b[1m82s\u001b[0m 89ms/step - loss: 7.2138 - mae: 2.0943 - val_loss: 10.2140 - val_mae: 2.4756\n",
      "Epoch 8/10\n",
      "\u001b[1m819/819\u001b[0m \u001b[32m━━━━━━━━━━━━━━━━━━━━\u001b[0m\u001b[37m\u001b[0m \u001b[1m73s\u001b[0m 89ms/step - loss: 6.9391 - mae: 2.0571 - val_loss: 10.3396 - val_mae: 2.4926\n",
      "Epoch 9/10\n",
      "\u001b[1m819/819\u001b[0m \u001b[32m━━━━━━━━━━━━━━━━━━━━\u001b[0m\u001b[37m\u001b[0m \u001b[1m75s\u001b[0m 91ms/step - loss: 6.7143 - mae: 2.0223 - val_loss: 10.3365 - val_mae: 2.4930\n",
      "Epoch 10/10\n",
      "\u001b[1m819/819\u001b[0m \u001b[32m━━━━━━━━━━━━━━━━━━━━\u001b[0m\u001b[37m\u001b[0m \u001b[1m73s\u001b[0m 89ms/step - loss: 6.5310 - mae: 1.9928 - val_loss: 10.5729 - val_mae: 2.5228\n",
      "\u001b[1m405/405\u001b[0m \u001b[32m━━━━━━━━━━━━━━━━━━━━\u001b[0m\u001b[37m\u001b[0m \u001b[1m16s\u001b[0m 39ms/step - loss: 11.4200 - mae: 2.6818\n",
      "Test MAE: 2.69\n"
     ]
    }
   ],
   "source": [
    "inputs = tf.keras.Input(shape=(sequence_length, raw_data.shape[-1]))\n",
    "x = tf.keras.layers.Bidirectional(tf.keras.layers.LSTM(16))(inputs)\n",
    "outputs = tf.keras.layers.Dense(1)(x)\n",
    "model = tf.keras.Model(inputs, outputs)\n",
    "\n",
    "model.compile(optimizer=\"rmsprop\", loss=\"mse\", metrics=[\"mae\"])\n",
    "history = model.fit(train_dataset,\n",
    "                    epochs=10,\n",
    "                    validation_data=val_dataset)\n",
    "\n",
    "print(f\"Test MAE: {model.evaluate(test_dataset)[1]:.2f}\")"
   ]
  },
  {
   "cell_type": "code",
   "execution_count": 17,
   "id": "d0a3252c",
   "metadata": {
    "execution": {
     "iopub.execute_input": "2024-11-16T19:59:53.741123Z",
     "iopub.status.busy": "2024-11-16T19:59:53.740691Z",
     "iopub.status.idle": "2024-11-16T19:59:53.976849Z",
     "shell.execute_reply": "2024-11-16T19:59:53.975736Z"
    },
    "papermill": {
     "duration": 1.737445,
     "end_time": "2024-11-16T19:59:53.979436",
     "exception": false,
     "start_time": "2024-11-16T19:59:52.241991",
     "status": "completed"
    },
    "tags": []
   },
   "outputs": [
    {
     "data": {
      "image/png": "[encoded data removed]",
      "text/plain": [
       "<Figure size 640x480 with 1 Axes>"
      ]
     },
     "metadata": {},
     "output_type": "display_data"
    }
   ],
   "source": [
    "loss = history.history[\"mae\"]\n",
    "val_loss = history.history[\"val_mae\"]\n",
    "epochs = range(1, len(loss) + 1)\n",
    "plt.figure()\n",
    "plt.plot(epochs, loss, \"bo\", label=\"Training MAE\")\n",
    "plt.plot(epochs, val_loss, \"b\", label=\"Validation MAE\")\n",
    "plt.title(\"Training and validation MAE\")\n",
    "plt.legend()\n",
    "plt.show()"
   ]
  }
 ],
 "metadata": {
  "kaggle": {
   "accelerator": "none",
   "dataSources": [
    {
     "datasetId": 11416,
     "sourceId": 15806,
     "sourceType": "datasetVersion"
    }
   ],
   "dockerImageVersionId": 30786,
   "isGpuEnabled": false,
   "isInternetEnabled": true,
   "language": "python",
   "sourceType": "notebook"
  },
  "kernelspec": {
   "display_name": "Python 3",
   "language": "python",
   "name": "python3"
  },
  "language_info": {
   "codemirror_mode": {
    "name": "ipython",
    "version": 3
   },
   "file_extension": ".py",
   "mimetype": "text/x-python",
   "name": "python",
   "nbconvert_exporter": "python",
   "pygments_lexer": "ipython3",
   "version": "3.10.14"
  },
  "papermill": {
   "default_parameters": {},
   "duration": 1887.167587,
   "end_time": "2024-11-16T19:59:57.400220",
   "environment_variables": {},
   "exception": null,
   "input_path": "__notebook__.ipynb",
   "output_path": "__notebook__.ipynb",
   "parameters": {},
   "start_time": "2024-11-16T19:28:30.232633",
   "version": "2.6.0"
  }
 },
 "nbformat": 4,
 "nbformat_minor": 5
}
